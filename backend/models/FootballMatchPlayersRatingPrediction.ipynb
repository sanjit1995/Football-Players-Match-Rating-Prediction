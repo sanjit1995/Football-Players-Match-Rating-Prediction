{
  "nbformat": 4,
  "nbformat_minor": 0,
  "metadata": {
    "colab": {
      "name": "FootballMatchPlayersRatingPrediction.ipynb",
      "provenance": [],
      "mount_file_id": "1IUQ7jt47LaLztgc91mY0HtyPVmX-uIQ5",
      "authorship_tag": "ABX9TyOZtAHUGjCtKNx4S0xtXppL",
      "include_colab_link": true
    },
    "kernelspec": {
      "name": "python3",
      "display_name": "Python 3"
    },
    "accelerator": "GPU"
  },
  "cells": [
    {
      "cell_type": "markdown",
      "metadata": {
        "id": "view-in-github",
        "colab_type": "text"
      },
      "source": [
        "<a href=\"https://colab.research.google.com/github/sanjit1995/Football-Players-Match-Rating-Prediction/blob/master/backend/models/FootballMatchPlayersRatingPrediction.ipynb\" target=\"_parent\"><img src=\"https://colab.research.google.com/assets/colab-badge.svg\" alt=\"Open In Colab\"/></a>"
      ]
    },
    {
      "cell_type": "code",
      "metadata": {
        "id": "fEhfiz6grsEa",
        "colab_type": "code",
        "colab": {}
      },
      "source": [
        "import pandas as pd\n",
        "import numpy as np\n",
        "import seaborn as sns\n",
        "import matplotlib.pyplot as plt"
      ],
      "execution_count": null,
      "outputs": []
    },
    {
      "cell_type": "code",
      "metadata": {
        "id": "WpOjNKxGsitd",
        "colab_type": "code",
        "colab": {}
      },
      "source": [
        "import pandas as pd\n",
        "train = pd.read_csv(\"/content/drive/My Drive/Colab Notebooks/data/FootballPlayersMatchRatingPrediction/SoccerPlayersData.csv\")"
      ],
      "execution_count": null,
      "outputs": []
    },
    {
      "cell_type": "code",
      "metadata": {
        "id": "Kwi7ze4ZQmbH",
        "colab_type": "code",
        "colab": {
          "base_uri": "https://localhost:8080/",
          "height": 34
        },
        "outputId": "e511e726-bc11-4e8b-f660-b47c1150b992"
      },
      "source": [
        "train.shape"
      ],
      "execution_count": null,
      "outputs": [
        {
          "output_type": "execute_result",
          "data": {
            "text/plain": [
              "(22555, 47)"
            ]
          },
          "metadata": {
            "tags": []
          },
          "execution_count": 18
        }
      ]
    },
    {
      "cell_type": "code",
      "metadata": {
        "id": "K0NUnAkCyTrR",
        "colab_type": "code",
        "colab": {
          "base_uri": "https://localhost:8080/",
          "height": 935
        },
        "outputId": "5bbaaccb-ad4d-4850-ebfe-ffdc25846917"
      },
      "source": [
        "train.info()"
      ],
      "execution_count": null,
      "outputs": [
        {
          "output_type": "stream",
          "text": [
            "<class 'pandas.core.frame.DataFrame'>\n",
            "RangeIndex: 22555 entries, 0 to 22554\n",
            "Data columns (total 47 columns):\n",
            " #   Column               Non-Null Count  Dtype  \n",
            "---  ------               --------------  -----  \n",
            " 0   player_id            22555 non-null  int64  \n",
            " 1   name                 22555 non-null  object \n",
            " 2   role                 22549 non-null  object \n",
            " 3   acted_as_sweeper     1615 non-null   float64\n",
            " 4   diving_save          1615 non-null   float64\n",
            " 5   goals_conceded       1615 non-null   float64\n",
            " 6   minutes_played       22555 non-null  int64  \n",
            " 7   punches              1615 non-null   float64\n",
            " 8   saves                1615 non-null   float64\n",
            " 9   saves_inside_box     1615 non-null   float64\n",
            " 10  throws               1615 non-null   float64\n",
            " 11  accurate_passes      22555 non-null  int64  \n",
            " 12  assists              20940 non-null  float64\n",
            " 13  chances_created      20940 non-null  float64\n",
            " 14  goals                20940 non-null  float64\n",
            " 15  pass_success         20940 non-null  object \n",
            " 16  total_shots          22555 non-null  int64  \n",
            " 17  blocked_shots        22555 non-null  int64  \n",
            " 18  shot_accuracy        22555 non-null  object \n",
            " 19  shot_off_target      22555 non-null  int64  \n",
            " 20  shot_on_target       22555 non-null  int64  \n",
            " 21  shots_woodwork       22555 non-null  int64  \n",
            " 22  accurate_long_balls  22555 non-null  int64  \n",
            " 23  crosses              22555 non-null  int64  \n",
            " 24  key_passes           22555 non-null  int64  \n",
            " 25  long_balls           22555 non-null  int64  \n",
            " 26  passes               22555 non-null  int64  \n",
            " 27  touches              22555 non-null  int64  \n",
            " 28  aerials_lost         22555 non-null  int64  \n",
            " 29  aerials_won          22555 non-null  int64  \n",
            " 30  clearances           22555 non-null  int64  \n",
            " 31  dispossessed         22555 non-null  int64  \n",
            " 32  dribbles_attempted   22555 non-null  int64  \n",
            " 33  dribbles_succeeded   22555 non-null  int64  \n",
            " 34  duels_lost           22555 non-null  int64  \n",
            " 35  duels_won            22555 non-null  int64  \n",
            " 36  fouls                22555 non-null  int64  \n",
            " 37  interceptions        22555 non-null  int64  \n",
            " 38  recoveries           22555 non-null  int64  \n",
            " 39  tackles_attempted    22555 non-null  int64  \n",
            " 40  tackles_succeeded    22555 non-null  int64  \n",
            " 41  was_fouled           22555 non-null  int64  \n",
            " 42  is_a_sub             22555 non-null  int64  \n",
            " 43  was_subbed           9870 non-null   float64\n",
            " 44  yellow_card          3275 non-null   float64\n",
            " 45  red_card             64 non-null     float64\n",
            " 46  rating               21189 non-null  float64\n",
            "dtypes: float64(14), int64(29), object(4)\n",
            "memory usage: 8.1+ MB\n"
          ],
          "name": "stdout"
        }
      ]
    },
    {
      "cell_type": "code",
      "metadata": {
        "id": "6F7n_1D_hu04",
        "colab_type": "code",
        "colab": {
          "base_uri": "https://localhost:8080/",
          "height": 419
        },
        "outputId": "07bd6602-7adc-49c0-ea0b-626ff8d2c799"
      },
      "source": [
        "x = pd.DataFrame()\n",
        "x[\"calculated_value\"] = train['accurate_passes'] / train['passes']\n",
        "x[\"actual_values\"] = train['pass_success']\n",
        "x"
      ],
      "execution_count": null,
      "outputs": [
        {
          "output_type": "execute_result",
          "data": {
            "text/html": [
              "<div>\n",
              "<style scoped>\n",
              "    .dataframe tbody tr th:only-of-type {\n",
              "        vertical-align: middle;\n",
              "    }\n",
              "\n",
              "    .dataframe tbody tr th {\n",
              "        vertical-align: top;\n",
              "    }\n",
              "\n",
              "    .dataframe thead th {\n",
              "        text-align: right;\n",
              "    }\n",
              "</style>\n",
              "<table border=\"1\" class=\"dataframe\">\n",
              "  <thead>\n",
              "    <tr style=\"text-align: right;\">\n",
              "      <th></th>\n",
              "      <th>calculated_value</th>\n",
              "      <th>actual_values</th>\n",
              "    </tr>\n",
              "  </thead>\n",
              "  <tbody>\n",
              "    <tr>\n",
              "      <th>0</th>\n",
              "      <td>0.777778</td>\n",
              "      <td>NaN</td>\n",
              "    </tr>\n",
              "    <tr>\n",
              "      <th>1</th>\n",
              "      <td>0.666667</td>\n",
              "      <td>67%</td>\n",
              "    </tr>\n",
              "    <tr>\n",
              "      <th>2</th>\n",
              "      <td>0.818182</td>\n",
              "      <td>82%</td>\n",
              "    </tr>\n",
              "    <tr>\n",
              "      <th>3</th>\n",
              "      <td>0.818182</td>\n",
              "      <td>NaN</td>\n",
              "    </tr>\n",
              "    <tr>\n",
              "      <th>4</th>\n",
              "      <td>0.600000</td>\n",
              "      <td>60%</td>\n",
              "    </tr>\n",
              "    <tr>\n",
              "      <th>...</th>\n",
              "      <td>...</td>\n",
              "      <td>...</td>\n",
              "    </tr>\n",
              "    <tr>\n",
              "      <th>22550</th>\n",
              "      <td>0.956522</td>\n",
              "      <td>96%</td>\n",
              "    </tr>\n",
              "    <tr>\n",
              "      <th>22551</th>\n",
              "      <td>0.840000</td>\n",
              "      <td>84%</td>\n",
              "    </tr>\n",
              "    <tr>\n",
              "      <th>22552</th>\n",
              "      <td>0.814815</td>\n",
              "      <td>81%</td>\n",
              "    </tr>\n",
              "    <tr>\n",
              "      <th>22553</th>\n",
              "      <td>0.666667</td>\n",
              "      <td>67%</td>\n",
              "    </tr>\n",
              "    <tr>\n",
              "      <th>22554</th>\n",
              "      <td>0.800000</td>\n",
              "      <td>80%</td>\n",
              "    </tr>\n",
              "  </tbody>\n",
              "</table>\n",
              "<p>22555 rows × 2 columns</p>\n",
              "</div>"
            ],
            "text/plain": [
              "       calculated_value actual_values\n",
              "0              0.777778           NaN\n",
              "1              0.666667           67%\n",
              "2              0.818182           82%\n",
              "3              0.818182           NaN\n",
              "4              0.600000           60%\n",
              "...                 ...           ...\n",
              "22550          0.956522           96%\n",
              "22551          0.840000           84%\n",
              "22552          0.814815           81%\n",
              "22553          0.666667           67%\n",
              "22554          0.800000           80%\n",
              "\n",
              "[22555 rows x 2 columns]"
            ]
          },
          "metadata": {
            "tags": []
          },
          "execution_count": 44
        }
      ]
    },
    {
      "cell_type": "code",
      "metadata": {
        "id": "EAmEBfqYjVCV",
        "colab_type": "code",
        "colab": {
          "base_uri": "https://localhost:8080/",
          "height": 34
        },
        "outputId": "4e1c5969-17e8-4891-d242-538599fe327e"
      },
      "source": [
        "len(train[(train.rating.isnull()) & (train.minutes_played > 10)])"
      ],
      "execution_count": null,
      "outputs": [
        {
          "output_type": "execute_result",
          "data": {
            "text/plain": [
              "34"
            ]
          },
          "metadata": {
            "tags": []
          },
          "execution_count": 6
        }
      ]
    },
    {
      "cell_type": "code",
      "metadata": {
        "id": "YNYDmrJxG9GF",
        "colab_type": "code",
        "colab": {}
      },
      "source": [
        "toDeleteNullRatingIndexes = train[(train.rating.isnull()) & (train.minutes_played > 10)].index.values\n",
        "train = train.drop(toDeleteNullRatingIndexes)"
      ],
      "execution_count": null,
      "outputs": []
    },
    {
      "cell_type": "code",
      "metadata": {
        "id": "lEkbxEjOixyD",
        "colab_type": "code",
        "colab": {
          "base_uri": "https://localhost:8080/",
          "height": 419
        },
        "outputId": "4a0b7cf8-9a58-454b-bcdb-aed5d0b5b480"
      },
      "source": [
        "train[train.pass_success.isnull()][['accurate_passes','passes','pass_success']]"
      ],
      "execution_count": null,
      "outputs": [
        {
          "output_type": "execute_result",
          "data": {
            "text/html": [
              "<div>\n",
              "<style scoped>\n",
              "    .dataframe tbody tr th:only-of-type {\n",
              "        vertical-align: middle;\n",
              "    }\n",
              "\n",
              "    .dataframe tbody tr th {\n",
              "        vertical-align: top;\n",
              "    }\n",
              "\n",
              "    .dataframe thead th {\n",
              "        text-align: right;\n",
              "    }\n",
              "</style>\n",
              "<table border=\"1\" class=\"dataframe\">\n",
              "  <thead>\n",
              "    <tr style=\"text-align: right;\">\n",
              "      <th></th>\n",
              "      <th>accurate_passes</th>\n",
              "      <th>passes</th>\n",
              "      <th>pass_success</th>\n",
              "    </tr>\n",
              "  </thead>\n",
              "  <tbody>\n",
              "    <tr>\n",
              "      <th>0</th>\n",
              "      <td>14</td>\n",
              "      <td>18</td>\n",
              "      <td>NaN</td>\n",
              "    </tr>\n",
              "    <tr>\n",
              "      <th>3</th>\n",
              "      <td>9</td>\n",
              "      <td>11</td>\n",
              "      <td>NaN</td>\n",
              "    </tr>\n",
              "    <tr>\n",
              "      <th>17</th>\n",
              "      <td>17</td>\n",
              "      <td>29</td>\n",
              "      <td>NaN</td>\n",
              "    </tr>\n",
              "    <tr>\n",
              "      <th>29</th>\n",
              "      <td>11</td>\n",
              "      <td>21</td>\n",
              "      <td>NaN</td>\n",
              "    </tr>\n",
              "    <tr>\n",
              "      <th>42</th>\n",
              "      <td>13</td>\n",
              "      <td>31</td>\n",
              "      <td>NaN</td>\n",
              "    </tr>\n",
              "    <tr>\n",
              "      <th>...</th>\n",
              "      <td>...</td>\n",
              "      <td>...</td>\n",
              "      <td>...</td>\n",
              "    </tr>\n",
              "    <tr>\n",
              "      <th>22484</th>\n",
              "      <td>20</td>\n",
              "      <td>33</td>\n",
              "      <td>NaN</td>\n",
              "    </tr>\n",
              "    <tr>\n",
              "      <th>22498</th>\n",
              "      <td>11</td>\n",
              "      <td>31</td>\n",
              "      <td>NaN</td>\n",
              "    </tr>\n",
              "    <tr>\n",
              "      <th>22514</th>\n",
              "      <td>14</td>\n",
              "      <td>27</td>\n",
              "      <td>NaN</td>\n",
              "    </tr>\n",
              "    <tr>\n",
              "      <th>22528</th>\n",
              "      <td>22</td>\n",
              "      <td>27</td>\n",
              "      <td>NaN</td>\n",
              "    </tr>\n",
              "    <tr>\n",
              "      <th>22544</th>\n",
              "      <td>34</td>\n",
              "      <td>54</td>\n",
              "      <td>NaN</td>\n",
              "    </tr>\n",
              "  </tbody>\n",
              "</table>\n",
              "<p>1615 rows × 3 columns</p>\n",
              "</div>"
            ],
            "text/plain": [
              "       accurate_passes  passes pass_success\n",
              "0                   14      18          NaN\n",
              "3                    9      11          NaN\n",
              "17                  17      29          NaN\n",
              "29                  11      21          NaN\n",
              "42                  13      31          NaN\n",
              "...                ...     ...          ...\n",
              "22484               20      33          NaN\n",
              "22498               11      31          NaN\n",
              "22514               14      27          NaN\n",
              "22528               22      27          NaN\n",
              "22544               34      54          NaN\n",
              "\n",
              "[1615 rows x 3 columns]"
            ]
          },
          "metadata": {
            "tags": []
          },
          "execution_count": 48
        }
      ]
    },
    {
      "cell_type": "code",
      "metadata": {
        "id": "u8yXaP4BSBiG",
        "colab_type": "code",
        "colab": {
          "base_uri": "https://localhost:8080/",
          "height": 34
        },
        "outputId": "9afcfdbe-f976-4d65-c1e2-b0a6bc76608e"
      },
      "source": [
        "len(train[train.role==\"Keeper\"]), len(train[train.role!=\"Keeper\"])"
      ],
      "execution_count": null,
      "outputs": [
        {
          "output_type": "execute_result",
          "data": {
            "text/plain": [
              "(1615, 20940)"
            ]
          },
          "metadata": {
            "tags": []
          },
          "execution_count": 20
        }
      ]
    },
    {
      "cell_type": "code",
      "metadata": {
        "id": "6GFXItnOrlAy",
        "colab_type": "code",
        "colab": {}
      },
      "source": [
        "train[train.rating.isna()]"
      ],
      "execution_count": null,
      "outputs": []
    },
    {
      "cell_type": "code",
      "metadata": {
        "id": "YaSHnidVbYae",
        "colab_type": "code",
        "colab": {
          "base_uri": "https://localhost:8080/",
          "height": 406
        },
        "outputId": "5416a419-991c-4632-d33e-dbb7f03387bf"
      },
      "source": [
        "import matplotlib.pyplot as plt\n",
        "plt.figure(figsize=(10, 6))\n",
        "rating_df = train[train.rating.isna()][['minutes_played']]\n",
        "null_mp_df = rating_df.groupby(['minutes_played']).minutes_played.agg('count').to_frame('count').reset_index()\n",
        "sns.barplot(x=\"minutes_played\", y=\"count\", data=null_mp_df)"
      ],
      "execution_count": null,
      "outputs": [
        {
          "output_type": "execute_result",
          "data": {
            "text/plain": [
              "<matplotlib.axes._subplots.AxesSubplot at 0x7fef4dbdfba8>"
            ]
          },
          "metadata": {
            "tags": []
          },
          "execution_count": 55
        },
        {
          "output_type": "display_data",
          "data": {
            "image/png": "[encoded data removed]",
            "text/plain": [
              "<Figure size 720x432 with 1 Axes>"
            ]
          },
          "metadata": {
            "tags": [],
            "needs_background": "light"
          }
        }
      ]
    },
    {
      "cell_type": "code",
      "metadata": {
        "id": "5uqZfZmuLR7i",
        "colab_type": "code",
        "colab": {
          "base_uri": "https://localhost:8080/",
          "height": 405
        },
        "outputId": "3cf1e382-3e22-4b5b-878d-52431483892f"
      },
      "source": [
        "import matplotlib.pyplot as plt\n",
        "plt.figure(figsize=(10, 6))\n",
        "roles_df = train.groupby(['role']).role.agg('count').to_frame('count').reset_index()\n",
        "sns.barplot(x=\"role\", y=\"count\", data=roles_df)"
      ],
      "execution_count": null,
      "outputs": [
        {
          "output_type": "execute_result",
          "data": {
            "text/plain": [
              "<matplotlib.axes._subplots.AxesSubplot at 0x7fef5039a908>"
            ]
          },
          "metadata": {
            "tags": []
          },
          "execution_count": 14
        },
        {
          "output_type": "display_data",
          "data": {
            "image/png": "[encoded data removed]",
            "text/plain": [
              "<Figure size 720x432 with 1 Axes>"
            ]
          },
          "metadata": {
            "tags": [],
            "needs_background": "light"
          }
        }
      ]
    },
    {
      "cell_type": "code",
      "metadata": {
        "id": "kMRr4K6qFxov",
        "colab_type": "code",
        "colab": {}
      },
      "source": [
        "train"
      ],
      "execution_count": null,
      "outputs": []
    },
    {
      "cell_type": "code",
      "metadata": {
        "id": "_zjCTrxNK3p8",
        "colab_type": "code",
        "colab": {
          "base_uri": "https://localhost:8080/",
          "height": 102
        },
        "outputId": "333ec3e2-70a4-4b9d-9ff5-8eaa6a4db06e"
      },
      "source": [
        "train.role.value_counts()"
      ],
      "execution_count": null,
      "outputs": [
        {
          "output_type": "execute_result",
          "data": {
            "text/plain": [
              "Midfielder    8652\n",
              "Defender      6862\n",
              "Attacker      5420\n",
              "Keeper        1615\n",
              "Name: role, dtype: int64"
            ]
          },
          "metadata": {
            "tags": []
          },
          "execution_count": 10
        }
      ]
    },
    {
      "cell_type": "code",
      "metadata": {
        "id": "KUdwQijYTyWk",
        "colab_type": "code",
        "colab": {
          "base_uri": "https://localhost:8080/",
          "height": 833
        },
        "outputId": "1ab586fd-c455-4b80-e28c-d067e7061e2a"
      },
      "source": [
        "train.isnull().sum()"
      ],
      "execution_count": null,
      "outputs": [
        {
          "output_type": "execute_result",
          "data": {
            "text/plain": [
              "player_id                  0\n",
              "name                       0\n",
              "role                       6\n",
              "acted_as_sweeper       20940\n",
              "diving_save            20940\n",
              "goals_conceded         20940\n",
              "minutes_played             0\n",
              "punches                20940\n",
              "saves                  20940\n",
              "saves_inside_box       20940\n",
              "throws                 20940\n",
              "accurate_passes            0\n",
              "assists                 1615\n",
              "chances_created         1615\n",
              "goals                   1615\n",
              "pass_success            1615\n",
              "total_shots                0\n",
              "blocked_shots              0\n",
              "shot_accuracy              0\n",
              "shot_off_target            0\n",
              "shot_on_target             0\n",
              "shots_woodwork             0\n",
              "accurate_long_balls        0\n",
              "crosses                    0\n",
              "key_passes                 0\n",
              "long_balls                 0\n",
              "passes                     0\n",
              "touches                    0\n",
              "aerials_lost               0\n",
              "aerials_won                0\n",
              "clearances                 0\n",
              "dispossessed               0\n",
              "dribbles_attempted         0\n",
              "dribbles_succeeded         0\n",
              "duels_lost                 0\n",
              "duels_won                  0\n",
              "fouls                      0\n",
              "interceptions              0\n",
              "recoveries                 0\n",
              "tackles_attempted          0\n",
              "tackles_succeeded          0\n",
              "was_fouled                 0\n",
              "is_a_sub                   0\n",
              "was_subbed             12685\n",
              "yellow_card            19280\n",
              "red_card               22491\n",
              "rating                  1366\n",
              "dtype: int64"
            ]
          },
          "metadata": {
            "tags": []
          },
          "execution_count": 22
        }
      ]
    },
    {
      "cell_type": "code",
      "metadata": {
        "id": "Tr-YxAN2KMKk",
        "colab_type": "code",
        "colab": {
          "base_uri": "https://localhost:8080/",
          "height": 102
        },
        "outputId": "617cef42-88e3-4e5a-87a7-0492db4b98e5"
      },
      "source": [
        "train.columns[train.isna().any()]"
      ],
      "execution_count": null,
      "outputs": [
        {
          "output_type": "execute_result",
          "data": {
            "text/plain": [
              "Index(['role', 'acted_as_sweeper', 'diving_save', 'goals_conceded', 'punches',\n",
              "       'saves', 'saves_inside_box', 'throws', 'assists', 'chances_created',\n",
              "       'goals', 'pass_success', 'was_subbed', 'yellow_card', 'red_card',\n",
              "       'rating'],\n",
              "      dtype='object')"
            ]
          },
          "metadata": {
            "tags": []
          },
          "execution_count": 15
        }
      ]
    },
    {
      "cell_type": "code",
      "metadata": {
        "id": "EkM6KkNHJgvz",
        "colab_type": "code",
        "colab": {
          "base_uri": "https://localhost:8080/",
          "height": 289
        },
        "outputId": "715ed9f7-473d-4403-b1bd-c5dfab2f2a50"
      },
      "source": [
        "null_values_dict = train.isnull().sum().to_dict()\n",
        "for key, value in null_values_dict.items():\n",
        "  if(value == 0):\n",
        "    continue\n",
        "  else:\n",
        "    print(key,\" : \", value)"
      ],
      "execution_count": null,
      "outputs": [
        {
          "output_type": "stream",
          "text": [
            "role  :  6\n",
            "acted_as_sweeper  :  20940\n",
            "diving_save  :  20940\n",
            "goals_conceded  :  20940\n",
            "punches  :  20940\n",
            "saves  :  20940\n",
            "saves_inside_box  :  20940\n",
            "throws  :  20940\n",
            "assists  :  1615\n",
            "chances_created  :  1615\n",
            "goals  :  1615\n",
            "pass_success  :  1615\n",
            "was_subbed  :  12685\n",
            "yellow_card  :  19280\n",
            "red_card  :  22491\n",
            "rating  :  1366\n"
          ],
          "name": "stdout"
        }
      ]
    },
    {
      "cell_type": "code",
      "metadata": {
        "id": "EvSV1-H3WioQ",
        "colab_type": "code",
        "colab": {
          "base_uri": "https://localhost:8080/",
          "height": 68
        },
        "outputId": "db0cd1b1-0ba7-4b34-e03d-b37fd3c5931f"
      },
      "source": [
        "train.is_a_sub.value_counts()"
      ],
      "execution_count": null,
      "outputs": [
        {
          "output_type": "execute_result",
          "data": {
            "text/plain": [
              "0    17617\n",
              "1     4938\n",
              "Name: is_a_sub, dtype: int64"
            ]
          },
          "metadata": {
            "tags": []
          },
          "execution_count": 25
        }
      ]
    },
    {
      "cell_type": "code",
      "metadata": {
        "id": "-tzXFko9VoUq",
        "colab_type": "code",
        "colab": {}
      },
      "source": [
        "df[['acted_as_sweeper','diving_save','goals_conceded','punches']] = df[['acted_as_sweeper','diving_save']].fillna(value=0)"
      ],
      "execution_count": null,
      "outputs": []
    },
    {
      "cell_type": "code",
      "metadata": {
        "id": "R_qModmjsuSC",
        "colab_type": "code",
        "colab": {
          "base_uri": "https://localhost:8080/",
          "height": 309
        },
        "outputId": "0ad5ae03-5baa-4cb7-d8c5-1b2667cd12c1"
      },
      "source": [
        "train.head()"
      ],
      "execution_count": null,
      "outputs": [
        {
          "output_type": "execute_result",
          "data": {
            "text/html": [
              "<div>\n",
              "<style scoped>\n",
              "    .dataframe tbody tr th:only-of-type {\n",
              "        vertical-align: middle;\n",
              "    }\n",
              "\n",
              "    .dataframe tbody tr th {\n",
              "        vertical-align: top;\n",
              "    }\n",
              "\n",
              "    .dataframe thead th {\n",
              "        text-align: right;\n",
              "    }\n",
              "</style>\n",
              "<table border=\"1\" class=\"dataframe\">\n",
              "  <thead>\n",
              "    <tr style=\"text-align: right;\">\n",
              "      <th></th>\n",
              "      <th>player_id</th>\n",
              "      <th>name</th>\n",
              "      <th>role</th>\n",
              "      <th>diving_save</th>\n",
              "      <th>goals_conceded</th>\n",
              "      <th>minutes_played</th>\n",
              "      <th>punches</th>\n",
              "      <th>saves</th>\n",
              "      <th>saves_inside_box</th>\n",
              "      <th>throws</th>\n",
              "      <th>accurate_passes</th>\n",
              "      <th>assists</th>\n",
              "      <th>chances_created</th>\n",
              "      <th>goals</th>\n",
              "      <th>pass_success</th>\n",
              "      <th>total_shots</th>\n",
              "      <th>blocked_shots</th>\n",
              "      <th>shot_accuracy</th>\n",
              "      <th>shot_off_target</th>\n",
              "      <th>shot_on_target</th>\n",
              "      <th>accurate_long_balls</th>\n",
              "      <th>crosses</th>\n",
              "      <th>key_passes</th>\n",
              "      <th>long_balls</th>\n",
              "      <th>passes</th>\n",
              "      <th>touches</th>\n",
              "      <th>aerials_lost</th>\n",
              "      <th>aerials_won</th>\n",
              "      <th>clearances</th>\n",
              "      <th>dispossessed</th>\n",
              "      <th>dribbles_attempted</th>\n",
              "      <th>dribbles_succeeded</th>\n",
              "      <th>duels_lost</th>\n",
              "      <th>duels_won</th>\n",
              "      <th>fouls</th>\n",
              "      <th>interceptions</th>\n",
              "      <th>recoveries</th>\n",
              "      <th>tackles_attempted</th>\n",
              "      <th>tackles_succeeded</th>\n",
              "      <th>was_fouled</th>\n",
              "      <th>is_a_sub</th>\n",
              "      <th>was_subbed</th>\n",
              "      <th>yellow_card</th>\n",
              "      <th>red_card</th>\n",
              "      <th>rating</th>\n",
              "    </tr>\n",
              "  </thead>\n",
              "  <tbody>\n",
              "    <tr>\n",
              "      <th>0</th>\n",
              "      <td>169756</td>\n",
              "      <td>Adrian</td>\n",
              "      <td>Keeper</td>\n",
              "      <td>1.0</td>\n",
              "      <td>0.0</td>\n",
              "      <td>51</td>\n",
              "      <td>0.0</td>\n",
              "      <td>2.0</td>\n",
              "      <td>0.0</td>\n",
              "      <td>0.0</td>\n",
              "      <td>14</td>\n",
              "      <td>0.0</td>\n",
              "      <td>0.0</td>\n",
              "      <td>0.0</td>\n",
              "      <td>0</td>\n",
              "      <td>0</td>\n",
              "      <td>0</td>\n",
              "      <td>0%</td>\n",
              "      <td>0</td>\n",
              "      <td>0</td>\n",
              "      <td>4</td>\n",
              "      <td>0</td>\n",
              "      <td>0</td>\n",
              "      <td>8</td>\n",
              "      <td>18</td>\n",
              "      <td>20</td>\n",
              "      <td>0</td>\n",
              "      <td>0</td>\n",
              "      <td>0</td>\n",
              "      <td>0</td>\n",
              "      <td>0</td>\n",
              "      <td>0</td>\n",
              "      <td>0</td>\n",
              "      <td>0</td>\n",
              "      <td>0</td>\n",
              "      <td>0</td>\n",
              "      <td>1</td>\n",
              "      <td>0</td>\n",
              "      <td>0</td>\n",
              "      <td>0</td>\n",
              "      <td>1</td>\n",
              "      <td>0.0</td>\n",
              "      <td>0.0</td>\n",
              "      <td>0.0</td>\n",
              "      <td>6.2</td>\n",
              "    </tr>\n",
              "    <tr>\n",
              "      <th>1</th>\n",
              "      <td>38807</td>\n",
              "      <td>James Milner</td>\n",
              "      <td>Midfielder</td>\n",
              "      <td>0.0</td>\n",
              "      <td>0.0</td>\n",
              "      <td>4</td>\n",
              "      <td>0.0</td>\n",
              "      <td>0.0</td>\n",
              "      <td>0.0</td>\n",
              "      <td>0.0</td>\n",
              "      <td>2</td>\n",
              "      <td>0.0</td>\n",
              "      <td>0.0</td>\n",
              "      <td>0.0</td>\n",
              "      <td>67%</td>\n",
              "      <td>0</td>\n",
              "      <td>0</td>\n",
              "      <td>0%</td>\n",
              "      <td>0</td>\n",
              "      <td>0</td>\n",
              "      <td>0</td>\n",
              "      <td>0</td>\n",
              "      <td>0</td>\n",
              "      <td>0</td>\n",
              "      <td>3</td>\n",
              "      <td>3</td>\n",
              "      <td>0</td>\n",
              "      <td>0</td>\n",
              "      <td>0</td>\n",
              "      <td>0</td>\n",
              "      <td>0</td>\n",
              "      <td>0</td>\n",
              "      <td>0</td>\n",
              "      <td>0</td>\n",
              "      <td>0</td>\n",
              "      <td>0</td>\n",
              "      <td>1</td>\n",
              "      <td>0</td>\n",
              "      <td>0</td>\n",
              "      <td>0</td>\n",
              "      <td>1</td>\n",
              "      <td>0.0</td>\n",
              "      <td>0.0</td>\n",
              "      <td>0.0</td>\n",
              "      <td>NaN</td>\n",
              "    </tr>\n",
              "    <tr>\n",
              "      <th>2</th>\n",
              "      <td>303339</td>\n",
              "      <td>Sadio Mané</td>\n",
              "      <td>Attacker</td>\n",
              "      <td>0.0</td>\n",
              "      <td>0.0</td>\n",
              "      <td>16</td>\n",
              "      <td>0.0</td>\n",
              "      <td>0.0</td>\n",
              "      <td>0.0</td>\n",
              "      <td>0.0</td>\n",
              "      <td>9</td>\n",
              "      <td>0.0</td>\n",
              "      <td>0.0</td>\n",
              "      <td>0.0</td>\n",
              "      <td>82%</td>\n",
              "      <td>0</td>\n",
              "      <td>0</td>\n",
              "      <td>0%</td>\n",
              "      <td>0</td>\n",
              "      <td>0</td>\n",
              "      <td>0</td>\n",
              "      <td>0</td>\n",
              "      <td>0</td>\n",
              "      <td>0</td>\n",
              "      <td>11</td>\n",
              "      <td>13</td>\n",
              "      <td>0</td>\n",
              "      <td>0</td>\n",
              "      <td>0</td>\n",
              "      <td>1</td>\n",
              "      <td>1</td>\n",
              "      <td>1</td>\n",
              "      <td>2</td>\n",
              "      <td>1</td>\n",
              "      <td>0</td>\n",
              "      <td>0</td>\n",
              "      <td>1</td>\n",
              "      <td>0</td>\n",
              "      <td>0</td>\n",
              "      <td>0</td>\n",
              "      <td>1</td>\n",
              "      <td>0.0</td>\n",
              "      <td>0.0</td>\n",
              "      <td>0.0</td>\n",
              "      <td>6.1</td>\n",
              "    </tr>\n",
              "    <tr>\n",
              "      <th>3</th>\n",
              "      <td>319784</td>\n",
              "      <td>Alisson Becker</td>\n",
              "      <td>Keeper</td>\n",
              "      <td>1.0</td>\n",
              "      <td>0.0</td>\n",
              "      <td>39</td>\n",
              "      <td>0.0</td>\n",
              "      <td>2.0</td>\n",
              "      <td>0.0</td>\n",
              "      <td>1.0</td>\n",
              "      <td>9</td>\n",
              "      <td>0.0</td>\n",
              "      <td>0.0</td>\n",
              "      <td>0.0</td>\n",
              "      <td>0</td>\n",
              "      <td>0</td>\n",
              "      <td>0</td>\n",
              "      <td>0%</td>\n",
              "      <td>0</td>\n",
              "      <td>0</td>\n",
              "      <td>1</td>\n",
              "      <td>0</td>\n",
              "      <td>0</td>\n",
              "      <td>2</td>\n",
              "      <td>11</td>\n",
              "      <td>14</td>\n",
              "      <td>0</td>\n",
              "      <td>0</td>\n",
              "      <td>0</td>\n",
              "      <td>0</td>\n",
              "      <td>0</td>\n",
              "      <td>0</td>\n",
              "      <td>0</td>\n",
              "      <td>0</td>\n",
              "      <td>0</td>\n",
              "      <td>0</td>\n",
              "      <td>2</td>\n",
              "      <td>0</td>\n",
              "      <td>0</td>\n",
              "      <td>0</td>\n",
              "      <td>0</td>\n",
              "      <td>1.0</td>\n",
              "      <td>0.0</td>\n",
              "      <td>0.0</td>\n",
              "      <td>6.2</td>\n",
              "    </tr>\n",
              "    <tr>\n",
              "      <th>4</th>\n",
              "      <td>760712</td>\n",
              "      <td>Trent Alexander-Arnold</td>\n",
              "      <td>Defender</td>\n",
              "      <td>0.0</td>\n",
              "      <td>0.0</td>\n",
              "      <td>90</td>\n",
              "      <td>0.0</td>\n",
              "      <td>0.0</td>\n",
              "      <td>0.0</td>\n",
              "      <td>0.0</td>\n",
              "      <td>24</td>\n",
              "      <td>1.0</td>\n",
              "      <td>2.0</td>\n",
              "      <td>0.0</td>\n",
              "      <td>60%</td>\n",
              "      <td>2</td>\n",
              "      <td>0</td>\n",
              "      <td>50%</td>\n",
              "      <td>1</td>\n",
              "      <td>1</td>\n",
              "      <td>4</td>\n",
              "      <td>8</td>\n",
              "      <td>3</td>\n",
              "      <td>10</td>\n",
              "      <td>40</td>\n",
              "      <td>73</td>\n",
              "      <td>0</td>\n",
              "      <td>1</td>\n",
              "      <td>1</td>\n",
              "      <td>1</td>\n",
              "      <td>1</td>\n",
              "      <td>0</td>\n",
              "      <td>4</td>\n",
              "      <td>2</td>\n",
              "      <td>1</td>\n",
              "      <td>2</td>\n",
              "      <td>7</td>\n",
              "      <td>1</td>\n",
              "      <td>1</td>\n",
              "      <td>0</td>\n",
              "      <td>0</td>\n",
              "      <td>0.0</td>\n",
              "      <td>0.0</td>\n",
              "      <td>0.0</td>\n",
              "      <td>7.7</td>\n",
              "    </tr>\n",
              "  </tbody>\n",
              "</table>\n",
              "</div>"
            ],
            "text/plain": [
              "   player_id                    name        role  ...  yellow_card  red_card  rating\n",
              "0     169756                  Adrian      Keeper  ...          0.0       0.0     6.2\n",
              "1      38807            James Milner  Midfielder  ...          0.0       0.0     NaN\n",
              "2     303339              Sadio Mané    Attacker  ...          0.0       0.0     6.1\n",
              "3     319784          Alisson Becker      Keeper  ...          0.0       0.0     6.2\n",
              "4     760712  Trent Alexander-Arnold    Defender  ...          0.0       0.0     7.7\n",
              "\n",
              "[5 rows x 45 columns]"
            ]
          },
          "metadata": {
            "tags": []
          },
          "execution_count": 58
        }
      ]
    },
    {
      "cell_type": "code",
      "metadata": {
        "id": "wFKk0fmSwDVK",
        "colab_type": "code",
        "colab": {
          "base_uri": "https://localhost:8080/",
          "height": 317
        },
        "outputId": "f584192b-391d-4f6a-e48a-8f38326e3b0a"
      },
      "source": [
        "train.describe()"
      ],
      "execution_count": null,
      "outputs": [
        {
          "output_type": "execute_result",
          "data": {
            "text/html": [
              "<div>\n",
              "<style scoped>\n",
              "    .dataframe tbody tr th:only-of-type {\n",
              "        vertical-align: middle;\n",
              "    }\n",
              "\n",
              "    .dataframe tbody tr th {\n",
              "        vertical-align: top;\n",
              "    }\n",
              "\n",
              "    .dataframe thead th {\n",
              "        text-align: right;\n",
              "    }\n",
              "</style>\n",
              "<table border=\"1\" class=\"dataframe\">\n",
              "  <thead>\n",
              "    <tr style=\"text-align: right;\">\n",
              "      <th></th>\n",
              "      <th>player_id</th>\n",
              "      <th>diving_save</th>\n",
              "      <th>goals_conceded</th>\n",
              "      <th>minutes_played</th>\n",
              "      <th>punches</th>\n",
              "      <th>saves</th>\n",
              "      <th>saves_inside_box</th>\n",
              "      <th>throws</th>\n",
              "      <th>accurate_passes</th>\n",
              "      <th>assists</th>\n",
              "      <th>chances_created</th>\n",
              "      <th>goals</th>\n",
              "      <th>total_shots</th>\n",
              "      <th>blocked_shots</th>\n",
              "      <th>shot_off_target</th>\n",
              "      <th>shot_on_target</th>\n",
              "      <th>accurate_long_balls</th>\n",
              "      <th>crosses</th>\n",
              "      <th>key_passes</th>\n",
              "      <th>long_balls</th>\n",
              "      <th>passes</th>\n",
              "      <th>touches</th>\n",
              "      <th>aerials_lost</th>\n",
              "      <th>aerials_won</th>\n",
              "      <th>clearances</th>\n",
              "      <th>dispossessed</th>\n",
              "      <th>dribbles_attempted</th>\n",
              "      <th>dribbles_succeeded</th>\n",
              "      <th>duels_lost</th>\n",
              "      <th>duels_won</th>\n",
              "      <th>fouls</th>\n",
              "      <th>interceptions</th>\n",
              "      <th>recoveries</th>\n",
              "      <th>tackles_attempted</th>\n",
              "      <th>tackles_succeeded</th>\n",
              "      <th>was_fouled</th>\n",
              "      <th>is_a_sub</th>\n",
              "      <th>was_subbed</th>\n",
              "      <th>yellow_card</th>\n",
              "      <th>red_card</th>\n",
              "      <th>rating</th>\n",
              "    </tr>\n",
              "  </thead>\n",
              "  <tbody>\n",
              "    <tr>\n",
              "      <th>count</th>\n",
              "      <td>2.255500e+04</td>\n",
              "      <td>1615.000000</td>\n",
              "      <td>1615.000000</td>\n",
              "      <td>22555.000000</td>\n",
              "      <td>1615.000000</td>\n",
              "      <td>1615.000000</td>\n",
              "      <td>1615.000000</td>\n",
              "      <td>1615.000000</td>\n",
              "      <td>22555.000000</td>\n",
              "      <td>20940.000000</td>\n",
              "      <td>20940.000000</td>\n",
              "      <td>20940.000000</td>\n",
              "      <td>22555.000000</td>\n",
              "      <td>22555.000000</td>\n",
              "      <td>22555.000000</td>\n",
              "      <td>22555.000000</td>\n",
              "      <td>22555.000000</td>\n",
              "      <td>22555.000000</td>\n",
              "      <td>22555.000000</td>\n",
              "      <td>22555.000000</td>\n",
              "      <td>22555.000000</td>\n",
              "      <td>22555.000000</td>\n",
              "      <td>22555.000000</td>\n",
              "      <td>22555.000000</td>\n",
              "      <td>22555.000000</td>\n",
              "      <td>22555.000000</td>\n",
              "      <td>22555.000000</td>\n",
              "      <td>22555.000000</td>\n",
              "      <td>22555.000000</td>\n",
              "      <td>22555.000000</td>\n",
              "      <td>22555.000000</td>\n",
              "      <td>22555.000000</td>\n",
              "      <td>22555.000000</td>\n",
              "      <td>22555.000000</td>\n",
              "      <td>22555.000000</td>\n",
              "      <td>22555.000000</td>\n",
              "      <td>22555.000000</td>\n",
              "      <td>9870.000000</td>\n",
              "      <td>3275.0</td>\n",
              "      <td>64.0</td>\n",
              "      <td>21189.000000</td>\n",
              "    </tr>\n",
              "    <tr>\n",
              "      <th>mean</th>\n",
              "      <td>3.757534e+05</td>\n",
              "      <td>1.426625</td>\n",
              "      <td>0.317028</td>\n",
              "      <td>70.245666</td>\n",
              "      <td>0.305263</td>\n",
              "      <td>2.716409</td>\n",
              "      <td>1.665635</td>\n",
              "      <td>4.220433</td>\n",
              "      <td>26.387763</td>\n",
              "      <td>0.080516</td>\n",
              "      <td>0.179370</td>\n",
              "      <td>0.114852</td>\n",
              "      <td>0.993039</td>\n",
              "      <td>0.227444</td>\n",
              "      <td>0.400621</td>\n",
              "      <td>0.341565</td>\n",
              "      <td>2.081623</td>\n",
              "      <td>1.452450</td>\n",
              "      <td>0.734737</td>\n",
              "      <td>4.223498</td>\n",
              "      <td>32.698027</td>\n",
              "      <td>46.633784</td>\n",
              "      <td>1.237553</td>\n",
              "      <td>1.264021</td>\n",
              "      <td>1.173177</td>\n",
              "      <td>0.650410</td>\n",
              "      <td>1.237863</td>\n",
              "      <td>0.747373</td>\n",
              "      <td>3.864420</td>\n",
              "      <td>3.931279</td>\n",
              "      <td>0.884682</td>\n",
              "      <td>0.742186</td>\n",
              "      <td>4.282155</td>\n",
              "      <td>1.112126</td>\n",
              "      <td>0.661583</td>\n",
              "      <td>0.847395</td>\n",
              "      <td>0.218932</td>\n",
              "      <td>0.501114</td>\n",
              "      <td>1.0</td>\n",
              "      <td>1.0</td>\n",
              "      <td>6.696739</td>\n",
              "    </tr>\n",
              "    <tr>\n",
              "      <th>std</th>\n",
              "      <td>2.648706e+05</td>\n",
              "      <td>1.353561</td>\n",
              "      <td>1.002995</td>\n",
              "      <td>29.499013</td>\n",
              "      <td>0.589302</td>\n",
              "      <td>1.918106</td>\n",
              "      <td>1.449574</td>\n",
              "      <td>2.429875</td>\n",
              "      <td>20.309901</td>\n",
              "      <td>0.294192</td>\n",
              "      <td>0.431035</td>\n",
              "      <td>0.357677</td>\n",
              "      <td>1.357096</td>\n",
              "      <td>0.493426</td>\n",
              "      <td>0.720062</td>\n",
              "      <td>0.688476</td>\n",
              "      <td>2.634320</td>\n",
              "      <td>2.442999</td>\n",
              "      <td>1.110342</td>\n",
              "      <td>5.133754</td>\n",
              "      <td>22.341214</td>\n",
              "      <td>26.828320</td>\n",
              "      <td>1.656355</td>\n",
              "      <td>1.777915</td>\n",
              "      <td>1.769927</td>\n",
              "      <td>1.014012</td>\n",
              "      <td>1.749509</td>\n",
              "      <td>1.207895</td>\n",
              "      <td>3.155255</td>\n",
              "      <td>3.137359</td>\n",
              "      <td>1.083199</td>\n",
              "      <td>1.080920</td>\n",
              "      <td>3.194726</td>\n",
              "      <td>1.365784</td>\n",
              "      <td>0.964334</td>\n",
              "      <td>1.112991</td>\n",
              "      <td>0.413531</td>\n",
              "      <td>0.500024</td>\n",
              "      <td>0.0</td>\n",
              "      <td>0.0</td>\n",
              "      <td>0.866871</td>\n",
              "    </tr>\n",
              "    <tr>\n",
              "      <th>min</th>\n",
              "      <td>2.805000e+03</td>\n",
              "      <td>0.000000</td>\n",
              "      <td>0.000000</td>\n",
              "      <td>1.000000</td>\n",
              "      <td>0.000000</td>\n",
              "      <td>0.000000</td>\n",
              "      <td>0.000000</td>\n",
              "      <td>0.000000</td>\n",
              "      <td>0.000000</td>\n",
              "      <td>0.000000</td>\n",
              "      <td>0.000000</td>\n",
              "      <td>0.000000</td>\n",
              "      <td>0.000000</td>\n",
              "      <td>0.000000</td>\n",
              "      <td>0.000000</td>\n",
              "      <td>0.000000</td>\n",
              "      <td>0.000000</td>\n",
              "      <td>0.000000</td>\n",
              "      <td>0.000000</td>\n",
              "      <td>0.000000</td>\n",
              "      <td>0.000000</td>\n",
              "      <td>0.000000</td>\n",
              "      <td>0.000000</td>\n",
              "      <td>0.000000</td>\n",
              "      <td>0.000000</td>\n",
              "      <td>0.000000</td>\n",
              "      <td>0.000000</td>\n",
              "      <td>0.000000</td>\n",
              "      <td>0.000000</td>\n",
              "      <td>0.000000</td>\n",
              "      <td>0.000000</td>\n",
              "      <td>0.000000</td>\n",
              "      <td>0.000000</td>\n",
              "      <td>0.000000</td>\n",
              "      <td>0.000000</td>\n",
              "      <td>0.000000</td>\n",
              "      <td>0.000000</td>\n",
              "      <td>0.000000</td>\n",
              "      <td>1.0</td>\n",
              "      <td>1.0</td>\n",
              "      <td>2.300000</td>\n",
              "    </tr>\n",
              "    <tr>\n",
              "      <th>25%</th>\n",
              "      <td>1.665950e+05</td>\n",
              "      <td>0.000000</td>\n",
              "      <td>0.000000</td>\n",
              "      <td>57.000000</td>\n",
              "      <td>0.000000</td>\n",
              "      <td>1.000000</td>\n",
              "      <td>1.000000</td>\n",
              "      <td>2.000000</td>\n",
              "      <td>11.000000</td>\n",
              "      <td>0.000000</td>\n",
              "      <td>0.000000</td>\n",
              "      <td>0.000000</td>\n",
              "      <td>0.000000</td>\n",
              "      <td>0.000000</td>\n",
              "      <td>0.000000</td>\n",
              "      <td>0.000000</td>\n",
              "      <td>0.000000</td>\n",
              "      <td>0.000000</td>\n",
              "      <td>0.000000</td>\n",
              "      <td>1.000000</td>\n",
              "      <td>16.000000</td>\n",
              "      <td>27.000000</td>\n",
              "      <td>0.000000</td>\n",
              "      <td>0.000000</td>\n",
              "      <td>0.000000</td>\n",
              "      <td>0.000000</td>\n",
              "      <td>0.000000</td>\n",
              "      <td>0.000000</td>\n",
              "      <td>1.000000</td>\n",
              "      <td>1.000000</td>\n",
              "      <td>0.000000</td>\n",
              "      <td>0.000000</td>\n",
              "      <td>2.000000</td>\n",
              "      <td>0.000000</td>\n",
              "      <td>0.000000</td>\n",
              "      <td>0.000000</td>\n",
              "      <td>0.000000</td>\n",
              "      <td>0.000000</td>\n",
              "      <td>1.0</td>\n",
              "      <td>1.0</td>\n",
              "      <td>6.100000</td>\n",
              "    </tr>\n",
              "    <tr>\n",
              "      <th>50%</th>\n",
              "      <td>3.038000e+05</td>\n",
              "      <td>1.000000</td>\n",
              "      <td>0.000000</td>\n",
              "      <td>90.000000</td>\n",
              "      <td>0.000000</td>\n",
              "      <td>2.000000</td>\n",
              "      <td>1.000000</td>\n",
              "      <td>4.000000</td>\n",
              "      <td>22.000000</td>\n",
              "      <td>0.000000</td>\n",
              "      <td>0.000000</td>\n",
              "      <td>0.000000</td>\n",
              "      <td>1.000000</td>\n",
              "      <td>0.000000</td>\n",
              "      <td>0.000000</td>\n",
              "      <td>0.000000</td>\n",
              "      <td>1.000000</td>\n",
              "      <td>0.000000</td>\n",
              "      <td>0.000000</td>\n",
              "      <td>3.000000</td>\n",
              "      <td>29.000000</td>\n",
              "      <td>45.000000</td>\n",
              "      <td>1.000000</td>\n",
              "      <td>1.000000</td>\n",
              "      <td>0.000000</td>\n",
              "      <td>0.000000</td>\n",
              "      <td>1.000000</td>\n",
              "      <td>0.000000</td>\n",
              "      <td>3.000000</td>\n",
              "      <td>3.000000</td>\n",
              "      <td>1.000000</td>\n",
              "      <td>0.000000</td>\n",
              "      <td>4.000000</td>\n",
              "      <td>1.000000</td>\n",
              "      <td>0.000000</td>\n",
              "      <td>0.000000</td>\n",
              "      <td>0.000000</td>\n",
              "      <td>1.000000</td>\n",
              "      <td>1.0</td>\n",
              "      <td>1.0</td>\n",
              "      <td>6.700000</td>\n",
              "    </tr>\n",
              "    <tr>\n",
              "      <th>75%</th>\n",
              "      <td>5.819190e+05</td>\n",
              "      <td>2.000000</td>\n",
              "      <td>0.000000</td>\n",
              "      <td>90.000000</td>\n",
              "      <td>0.000000</td>\n",
              "      <td>4.000000</td>\n",
              "      <td>2.000000</td>\n",
              "      <td>6.000000</td>\n",
              "      <td>37.000000</td>\n",
              "      <td>0.000000</td>\n",
              "      <td>0.000000</td>\n",
              "      <td>0.000000</td>\n",
              "      <td>2.000000</td>\n",
              "      <td>0.000000</td>\n",
              "      <td>1.000000</td>\n",
              "      <td>1.000000</td>\n",
              "      <td>3.000000</td>\n",
              "      <td>2.000000</td>\n",
              "      <td>1.000000</td>\n",
              "      <td>6.000000</td>\n",
              "      <td>46.000000</td>\n",
              "      <td>64.000000</td>\n",
              "      <td>2.000000</td>\n",
              "      <td>2.000000</td>\n",
              "      <td>2.000000</td>\n",
              "      <td>1.000000</td>\n",
              "      <td>2.000000</td>\n",
              "      <td>1.000000</td>\n",
              "      <td>6.000000</td>\n",
              "      <td>6.000000</td>\n",
              "      <td>1.000000</td>\n",
              "      <td>1.000000</td>\n",
              "      <td>6.000000</td>\n",
              "      <td>2.000000</td>\n",
              "      <td>1.000000</td>\n",
              "      <td>1.000000</td>\n",
              "      <td>0.000000</td>\n",
              "      <td>1.000000</td>\n",
              "      <td>1.0</td>\n",
              "      <td>1.0</td>\n",
              "      <td>7.300000</td>\n",
              "    </tr>\n",
              "    <tr>\n",
              "      <th>max</th>\n",
              "      <td>1.163226e+06</td>\n",
              "      <td>8.000000</td>\n",
              "      <td>9.000000</td>\n",
              "      <td>120.000000</td>\n",
              "      <td>4.000000</td>\n",
              "      <td>12.000000</td>\n",
              "      <td>8.000000</td>\n",
              "      <td>13.000000</td>\n",
              "      <td>178.000000</td>\n",
              "      <td>3.000000</td>\n",
              "      <td>4.000000</td>\n",
              "      <td>4.000000</td>\n",
              "      <td>11.000000</td>\n",
              "      <td>4.000000</td>\n",
              "      <td>6.000000</td>\n",
              "      <td>7.000000</td>\n",
              "      <td>26.000000</td>\n",
              "      <td>31.000000</td>\n",
              "      <td>11.000000</td>\n",
              "      <td>44.000000</td>\n",
              "      <td>188.000000</td>\n",
              "      <td>195.000000</td>\n",
              "      <td>20.000000</td>\n",
              "      <td>24.000000</td>\n",
              "      <td>16.000000</td>\n",
              "      <td>10.000000</td>\n",
              "      <td>20.000000</td>\n",
              "      <td>12.000000</td>\n",
              "      <td>29.000000</td>\n",
              "      <td>28.000000</td>\n",
              "      <td>8.000000</td>\n",
              "      <td>9.000000</td>\n",
              "      <td>23.000000</td>\n",
              "      <td>11.000000</td>\n",
              "      <td>8.000000</td>\n",
              "      <td>9.000000</td>\n",
              "      <td>1.000000</td>\n",
              "      <td>1.000000</td>\n",
              "      <td>1.0</td>\n",
              "      <td>1.0</td>\n",
              "      <td>9.900000</td>\n",
              "    </tr>\n",
              "  </tbody>\n",
              "</table>\n",
              "</div>"
            ],
            "text/plain": [
              "          player_id  diving_save  ...  red_card        rating\n",
              "count  2.255500e+04  1615.000000  ...      64.0  21189.000000\n",
              "mean   3.757534e+05     1.426625  ...       1.0      6.696739\n",
              "std    2.648706e+05     1.353561  ...       0.0      0.866871\n",
              "min    2.805000e+03     0.000000  ...       1.0      2.300000\n",
              "25%    1.665950e+05     0.000000  ...       1.0      6.100000\n",
              "50%    3.038000e+05     1.000000  ...       1.0      6.700000\n",
              "75%    5.819190e+05     2.000000  ...       1.0      7.300000\n",
              "max    1.163226e+06     8.000000  ...       1.0      9.900000\n",
              "\n",
              "[8 rows x 41 columns]"
            ]
          },
          "metadata": {
            "tags": []
          },
          "execution_count": 25
        }
      ]
    },
    {
      "cell_type": "code",
      "metadata": {
        "id": "nLmcwLiYMmc4",
        "colab_type": "code",
        "colab": {}
      },
      "source": [
        "train.isnull().sum()"
      ],
      "execution_count": null,
      "outputs": []
    },
    {
      "cell_type": "code",
      "metadata": {
        "id": "qCVOQ0c-O0xP",
        "colab_type": "code",
        "colab": {}
      },
      "source": [
        "train[train.rating.isnull()]"
      ],
      "execution_count": null,
      "outputs": []
    },
    {
      "cell_type": "code",
      "metadata": {
        "id": "hm_fGWuhMZoq",
        "colab_type": "code",
        "colab": {
          "base_uri": "https://localhost:8080/",
          "height": 34
        },
        "outputId": "f73a35ba-026a-4127-874e-b932cc4a8945"
      },
      "source": [
        "train[(train.rating.isnull()) & (train.was_subbed==1)].was_subbed.agg('count')"
      ],
      "execution_count": null,
      "outputs": [
        {
          "output_type": "execute_result",
          "data": {
            "text/plain": [
              "13"
            ]
          },
          "metadata": {
            "tags": []
          },
          "execution_count": 32
        }
      ]
    },
    {
      "cell_type": "code",
      "metadata": {
        "id": "QZ5JwX27PLxS",
        "colab_type": "code",
        "colab": {
          "base_uri": "https://localhost:8080/",
          "height": 34
        },
        "outputId": "28115ec6-2714-4d3e-a6ee-a85da6649798"
      },
      "source": [
        "train[(train.rating.isnull()) & (train.is_a_sub==1)].was_subbed.agg('count')"
      ],
      "execution_count": null,
      "outputs": [
        {
          "output_type": "execute_result",
          "data": {
            "text/plain": [
              "1320"
            ]
          },
          "metadata": {
            "tags": []
          },
          "execution_count": 31
        }
      ]
    },
    {
      "cell_type": "code",
      "metadata": {
        "id": "IjsgUBkcKoIZ",
        "colab_type": "code",
        "colab": {
          "base_uri": "https://localhost:8080/",
          "height": 117
        },
        "outputId": "faa00b21-8cb9-4de5-8e5e-44e042c5dec1"
      },
      "source": [
        "train[(train.rating.isnull()) & (train.yellow_card==1.0) & (train.red_card==1.0)]"
      ],
      "execution_count": null,
      "outputs": [
        {
          "output_type": "execute_result",
          "data": {
            "text/html": [
              "<div>\n",
              "<style scoped>\n",
              "    .dataframe tbody tr th:only-of-type {\n",
              "        vertical-align: middle;\n",
              "    }\n",
              "\n",
              "    .dataframe tbody tr th {\n",
              "        vertical-align: top;\n",
              "    }\n",
              "\n",
              "    .dataframe thead th {\n",
              "        text-align: right;\n",
              "    }\n",
              "</style>\n",
              "<table border=\"1\" class=\"dataframe\">\n",
              "  <thead>\n",
              "    <tr style=\"text-align: right;\">\n",
              "      <th></th>\n",
              "      <th>player_id</th>\n",
              "      <th>name</th>\n",
              "      <th>role</th>\n",
              "      <th>acted_as_sweeper</th>\n",
              "      <th>diving_save</th>\n",
              "      <th>goals_conceded</th>\n",
              "      <th>minutes_played</th>\n",
              "      <th>punches</th>\n",
              "      <th>saves</th>\n",
              "      <th>saves_inside_box</th>\n",
              "      <th>throws</th>\n",
              "      <th>accurate_passes</th>\n",
              "      <th>assists</th>\n",
              "      <th>chances_created</th>\n",
              "      <th>goals</th>\n",
              "      <th>pass_success</th>\n",
              "      <th>total_shots</th>\n",
              "      <th>blocked_shots</th>\n",
              "      <th>shot_accuracy</th>\n",
              "      <th>shot_off_target</th>\n",
              "      <th>shot_on_target</th>\n",
              "      <th>shots_woodwork</th>\n",
              "      <th>accurate_long_balls</th>\n",
              "      <th>crosses</th>\n",
              "      <th>key_passes</th>\n",
              "      <th>long_balls</th>\n",
              "      <th>passes</th>\n",
              "      <th>touches</th>\n",
              "      <th>aerials_lost</th>\n",
              "      <th>aerials_won</th>\n",
              "      <th>clearances</th>\n",
              "      <th>dispossessed</th>\n",
              "      <th>dribbles_attempted</th>\n",
              "      <th>dribbles_succeeded</th>\n",
              "      <th>duels_lost</th>\n",
              "      <th>duels_won</th>\n",
              "      <th>fouls</th>\n",
              "      <th>interceptions</th>\n",
              "      <th>recoveries</th>\n",
              "      <th>tackles_attempted</th>\n",
              "      <th>tackles_succeeded</th>\n",
              "      <th>was_fouled</th>\n",
              "      <th>is_a_sub</th>\n",
              "      <th>was_subbed</th>\n",
              "      <th>yellow_card</th>\n",
              "      <th>red_card</th>\n",
              "      <th>rating</th>\n",
              "    </tr>\n",
              "  </thead>\n",
              "  <tbody>\n",
              "    <tr>\n",
              "      <th>16450</th>\n",
              "      <td>108808</td>\n",
              "      <td>Mario Balotelli</td>\n",
              "      <td>Attacker</td>\n",
              "      <td>NaN</td>\n",
              "      <td>NaN</td>\n",
              "      <td>NaN</td>\n",
              "      <td>7</td>\n",
              "      <td>NaN</td>\n",
              "      <td>NaN</td>\n",
              "      <td>NaN</td>\n",
              "      <td>NaN</td>\n",
              "      <td>2</td>\n",
              "      <td>0.0</td>\n",
              "      <td>0.0</td>\n",
              "      <td>0.0</td>\n",
              "      <td>100%</td>\n",
              "      <td>0</td>\n",
              "      <td>0</td>\n",
              "      <td>0%</td>\n",
              "      <td>0</td>\n",
              "      <td>0</td>\n",
              "      <td>0</td>\n",
              "      <td>0</td>\n",
              "      <td>0</td>\n",
              "      <td>0</td>\n",
              "      <td>0</td>\n",
              "      <td>2</td>\n",
              "      <td>2</td>\n",
              "      <td>0</td>\n",
              "      <td>0</td>\n",
              "      <td>0</td>\n",
              "      <td>0</td>\n",
              "      <td>0</td>\n",
              "      <td>0</td>\n",
              "      <td>1</td>\n",
              "      <td>0</td>\n",
              "      <td>1</td>\n",
              "      <td>0</td>\n",
              "      <td>0</td>\n",
              "      <td>0</td>\n",
              "      <td>0</td>\n",
              "      <td>0</td>\n",
              "      <td>1</td>\n",
              "      <td>0.0</td>\n",
              "      <td>1.0</td>\n",
              "      <td>1.0</td>\n",
              "      <td>NaN</td>\n",
              "    </tr>\n",
              "  </tbody>\n",
              "</table>\n",
              "</div>"
            ],
            "text/plain": [
              "       player_id             name      role  ...  yellow_card  red_card  rating\n",
              "16450     108808  Mario Balotelli  Attacker  ...          1.0       1.0     NaN\n",
              "\n",
              "[1 rows x 47 columns]"
            ]
          },
          "metadata": {
            "tags": []
          },
          "execution_count": 15
        }
      ]
    },
    {
      "cell_type": "code",
      "metadata": {
        "id": "I7_W0zy54alJ",
        "colab_type": "code",
        "colab": {}
      },
      "source": [
        "def cleanData(df):\n",
        "  df = df.drop(['acted_as_sweeper','shots_woodwork'], axis=1)\n",
        "\n",
        "  nice_play_indexes = train[(train.rating.isnull()) & ((train.goals>=1.0) | (train.assists>=1.0) | (train.saves>=1.0) | (train.key_passes>=1.0) \n",
        "                          | (train.chances_created>=1.0))].index.values\n",
        "  for nice_play_index in nice_play_indexes:\n",
        "    train.at[nice_play_indexes,'rating'] = 6.0\n",
        "\n",
        "  yc_rc_indexes = train[(train.rating.isnull()) & (train.yellow_card==1.0) & (train.red_card==1.0)].index.values\n",
        "  for yc_rc_index in yc_rc_indexes:\n",
        "    train.at[yc_rc_index,'rating'] = 2.0\n",
        "\n",
        "  rc_indexes = train[(train.rating.isnull()) & (train.yellow_card==0.0) & (train.red_card==1.0)].index.values\n",
        "  for rc_index in rc_indexes:\n",
        "    train.at[rc_index,'rating'] = 3.0\n",
        "  \n",
        "  yc_indexes = train[(train.rating.isnull()) & (train.yellow_card==1.0) & (train.red_card==0.0)].index.values\n",
        "  for yc_index in yc_indexes:\n",
        "    train.at[yc_index,'rating'] = 4.0\n",
        "  \n",
        "  contributed_null_indexes = train[train.rating.isnull()].index.values\n",
        "  for contributed_null_index in contributed_null_indexes:\n",
        "    train.at[contributed_null_index,'rating'] = 5.0\n",
        "\n",
        "  train[['diving_save','goals_conceded','punches','saves','saves_inside_box','throws','assists','chances_created','goals','pass_success','was_subbed','yellow_card','red_card']] \n",
        "  = train[['diving_save','goals_conceded','punches','saves','saves_inside_box','throws','assists','chances_created','goals','pass_success','was_subbed','yellow_card','red_card']].fillna(value=0)\n",
        "\n",
        "  float_to_int_columns = ['diving_save','goals_conceded','punches','saves','saves_inside_box','throws','assists','chances_created','goals','was_subbed',\n",
        "                          'yellow_card','red_card']\n",
        "\n",
        "  for column_name in float_to_int_columns:\n",
        "    df[column_name] = df[column_name].astype(int)\n",
        "\n",
        "  toFindPassAccIndexes = train[(train.pass_success==0) & (train.passes>0)].index.values\n",
        "  \n",
        "  train['pass_success'] = train['pass_success'].str.rstrip('%').astype('float') / 100.0\n",
        "  train['shot_accuracy'] = train['shot_accuracy'].str.rstrip('%').astype('float') / 100.0\n",
        "\n",
        "  for passAccIndex in toFindPassAccIndexes:\n",
        "  if train.loc[passAccIndex, 'passes'] > 0:\n",
        "    train.at[passAccIndex, 'pass_success'] = train.loc[passAccIndex, 'accurate_passes'] / train.loc[passAccIndex, 'passes']\n",
        "\n",
        "  train['pass_success'] = train['pass_success'].fillna(0).astype('float')\n",
        "\n",
        "  scaler = joblib.load('/content/drive/My Drive/Colab Notebooks/data/FootballPlayersMatchRatingPrediction/scaler_minutes_played.pkl') \n",
        "  df['minutes_played'] = scaler.transform(df[['minutes_played']])\n",
        "  return df"
      ],
      "execution_count": null,
      "outputs": []
    },
    {
      "cell_type": "code",
      "metadata": {
        "id": "HQ66UUk2aYQ1",
        "colab_type": "code",
        "colab": {
          "base_uri": "https://localhost:8080/",
          "height": 317
        },
        "outputId": "649dffe4-5c3b-47f3-ecbb-da8c46f90574"
      },
      "source": [
        "train.describe()"
      ],
      "execution_count": null,
      "outputs": [
        {
          "output_type": "execute_result",
          "data": {
            "text/html": [
              "<div>\n",
              "<style scoped>\n",
              "    .dataframe tbody tr th:only-of-type {\n",
              "        vertical-align: middle;\n",
              "    }\n",
              "\n",
              "    .dataframe tbody tr th {\n",
              "        vertical-align: top;\n",
              "    }\n",
              "\n",
              "    .dataframe thead th {\n",
              "        text-align: right;\n",
              "    }\n",
              "</style>\n",
              "<table border=\"1\" class=\"dataframe\">\n",
              "  <thead>\n",
              "    <tr style=\"text-align: right;\">\n",
              "      <th></th>\n",
              "      <th>player_id</th>\n",
              "      <th>acted_as_sweeper</th>\n",
              "      <th>diving_save</th>\n",
              "      <th>goals_conceded</th>\n",
              "      <th>minutes_played</th>\n",
              "      <th>punches</th>\n",
              "      <th>saves</th>\n",
              "      <th>saves_inside_box</th>\n",
              "      <th>throws</th>\n",
              "      <th>accurate_passes</th>\n",
              "      <th>assists</th>\n",
              "      <th>chances_created</th>\n",
              "      <th>goals</th>\n",
              "      <th>total_shots</th>\n",
              "      <th>blocked_shots</th>\n",
              "      <th>shot_off_target</th>\n",
              "      <th>shot_on_target</th>\n",
              "      <th>shots_woodwork</th>\n",
              "      <th>accurate_long_balls</th>\n",
              "      <th>crosses</th>\n",
              "      <th>key_passes</th>\n",
              "      <th>long_balls</th>\n",
              "      <th>passes</th>\n",
              "      <th>touches</th>\n",
              "      <th>aerials_lost</th>\n",
              "      <th>aerials_won</th>\n",
              "      <th>clearances</th>\n",
              "      <th>dispossessed</th>\n",
              "      <th>dribbles_attempted</th>\n",
              "      <th>dribbles_succeeded</th>\n",
              "      <th>duels_lost</th>\n",
              "      <th>duels_won</th>\n",
              "      <th>fouls</th>\n",
              "      <th>interceptions</th>\n",
              "      <th>recoveries</th>\n",
              "      <th>tackles_attempted</th>\n",
              "      <th>tackles_succeeded</th>\n",
              "      <th>was_fouled</th>\n",
              "      <th>is_a_sub</th>\n",
              "      <th>was_subbed</th>\n",
              "      <th>yellow_card</th>\n",
              "      <th>red_card</th>\n",
              "      <th>rating</th>\n",
              "    </tr>\n",
              "  </thead>\n",
              "  <tbody>\n",
              "    <tr>\n",
              "      <th>count</th>\n",
              "      <td>2.255500e+04</td>\n",
              "      <td>1615.0</td>\n",
              "      <td>1615.000000</td>\n",
              "      <td>1615.000000</td>\n",
              "      <td>22555.000000</td>\n",
              "      <td>1615.000000</td>\n",
              "      <td>1615.000000</td>\n",
              "      <td>1615.000000</td>\n",
              "      <td>1615.000000</td>\n",
              "      <td>22555.000000</td>\n",
              "      <td>20940.000000</td>\n",
              "      <td>20940.000000</td>\n",
              "      <td>20940.000000</td>\n",
              "      <td>22555.000000</td>\n",
              "      <td>22555.000000</td>\n",
              "      <td>22555.000000</td>\n",
              "      <td>22555.000000</td>\n",
              "      <td>22555.0</td>\n",
              "      <td>22555.000000</td>\n",
              "      <td>22555.000000</td>\n",
              "      <td>22555.000000</td>\n",
              "      <td>22555.000000</td>\n",
              "      <td>22555.000000</td>\n",
              "      <td>22555.000000</td>\n",
              "      <td>22555.000000</td>\n",
              "      <td>22555.000000</td>\n",
              "      <td>22555.000000</td>\n",
              "      <td>22555.000000</td>\n",
              "      <td>22555.000000</td>\n",
              "      <td>22555.000000</td>\n",
              "      <td>22555.000000</td>\n",
              "      <td>22555.000000</td>\n",
              "      <td>22555.000000</td>\n",
              "      <td>22555.000000</td>\n",
              "      <td>22555.000000</td>\n",
              "      <td>22555.000000</td>\n",
              "      <td>22555.000000</td>\n",
              "      <td>22555.000000</td>\n",
              "      <td>22555.000000</td>\n",
              "      <td>9870.000000</td>\n",
              "      <td>3275.0</td>\n",
              "      <td>64.0</td>\n",
              "      <td>21189.000000</td>\n",
              "    </tr>\n",
              "    <tr>\n",
              "      <th>mean</th>\n",
              "      <td>3.757534e+05</td>\n",
              "      <td>0.0</td>\n",
              "      <td>1.426625</td>\n",
              "      <td>0.317028</td>\n",
              "      <td>70.245666</td>\n",
              "      <td>0.305263</td>\n",
              "      <td>2.716409</td>\n",
              "      <td>1.665635</td>\n",
              "      <td>4.220433</td>\n",
              "      <td>26.387763</td>\n",
              "      <td>0.080516</td>\n",
              "      <td>0.179370</td>\n",
              "      <td>0.114852</td>\n",
              "      <td>0.993039</td>\n",
              "      <td>0.227444</td>\n",
              "      <td>0.400621</td>\n",
              "      <td>0.341565</td>\n",
              "      <td>0.0</td>\n",
              "      <td>2.081623</td>\n",
              "      <td>1.452450</td>\n",
              "      <td>0.734737</td>\n",
              "      <td>4.223498</td>\n",
              "      <td>32.698027</td>\n",
              "      <td>46.633784</td>\n",
              "      <td>1.237553</td>\n",
              "      <td>1.264021</td>\n",
              "      <td>1.173177</td>\n",
              "      <td>0.650410</td>\n",
              "      <td>1.237863</td>\n",
              "      <td>0.747373</td>\n",
              "      <td>3.864420</td>\n",
              "      <td>3.931279</td>\n",
              "      <td>0.884682</td>\n",
              "      <td>0.742186</td>\n",
              "      <td>4.282155</td>\n",
              "      <td>1.112126</td>\n",
              "      <td>0.661583</td>\n",
              "      <td>0.847395</td>\n",
              "      <td>0.218932</td>\n",
              "      <td>0.501114</td>\n",
              "      <td>1.0</td>\n",
              "      <td>1.0</td>\n",
              "      <td>6.696739</td>\n",
              "    </tr>\n",
              "    <tr>\n",
              "      <th>std</th>\n",
              "      <td>2.648706e+05</td>\n",
              "      <td>0.0</td>\n",
              "      <td>1.353561</td>\n",
              "      <td>1.002995</td>\n",
              "      <td>29.499013</td>\n",
              "      <td>0.589302</td>\n",
              "      <td>1.918106</td>\n",
              "      <td>1.449574</td>\n",
              "      <td>2.429875</td>\n",
              "      <td>20.309901</td>\n",
              "      <td>0.294192</td>\n",
              "      <td>0.431035</td>\n",
              "      <td>0.357677</td>\n",
              "      <td>1.357096</td>\n",
              "      <td>0.493426</td>\n",
              "      <td>0.720062</td>\n",
              "      <td>0.688476</td>\n",
              "      <td>0.0</td>\n",
              "      <td>2.634320</td>\n",
              "      <td>2.442999</td>\n",
              "      <td>1.110342</td>\n",
              "      <td>5.133754</td>\n",
              "      <td>22.341214</td>\n",
              "      <td>26.828320</td>\n",
              "      <td>1.656355</td>\n",
              "      <td>1.777915</td>\n",
              "      <td>1.769927</td>\n",
              "      <td>1.014012</td>\n",
              "      <td>1.749509</td>\n",
              "      <td>1.207895</td>\n",
              "      <td>3.155255</td>\n",
              "      <td>3.137359</td>\n",
              "      <td>1.083199</td>\n",
              "      <td>1.080920</td>\n",
              "      <td>3.194726</td>\n",
              "      <td>1.365784</td>\n",
              "      <td>0.964334</td>\n",
              "      <td>1.112991</td>\n",
              "      <td>0.413531</td>\n",
              "      <td>0.500024</td>\n",
              "      <td>0.0</td>\n",
              "      <td>0.0</td>\n",
              "      <td>0.866871</td>\n",
              "    </tr>\n",
              "    <tr>\n",
              "      <th>min</th>\n",
              "      <td>2.805000e+03</td>\n",
              "      <td>0.0</td>\n",
              "      <td>0.000000</td>\n",
              "      <td>0.000000</td>\n",
              "      <td>1.000000</td>\n",
              "      <td>0.000000</td>\n",
              "      <td>0.000000</td>\n",
              "      <td>0.000000</td>\n",
              "      <td>0.000000</td>\n",
              "      <td>0.000000</td>\n",
              "      <td>0.000000</td>\n",
              "      <td>0.000000</td>\n",
              "      <td>0.000000</td>\n",
              "      <td>0.000000</td>\n",
              "      <td>0.000000</td>\n",
              "      <td>0.000000</td>\n",
              "      <td>0.000000</td>\n",
              "      <td>0.0</td>\n",
              "      <td>0.000000</td>\n",
              "      <td>0.000000</td>\n",
              "      <td>0.000000</td>\n",
              "      <td>0.000000</td>\n",
              "      <td>0.000000</td>\n",
              "      <td>0.000000</td>\n",
              "      <td>0.000000</td>\n",
              "      <td>0.000000</td>\n",
              "      <td>0.000000</td>\n",
              "      <td>0.000000</td>\n",
              "      <td>0.000000</td>\n",
              "      <td>0.000000</td>\n",
              "      <td>0.000000</td>\n",
              "      <td>0.000000</td>\n",
              "      <td>0.000000</td>\n",
              "      <td>0.000000</td>\n",
              "      <td>0.000000</td>\n",
              "      <td>0.000000</td>\n",
              "      <td>0.000000</td>\n",
              "      <td>0.000000</td>\n",
              "      <td>0.000000</td>\n",
              "      <td>0.000000</td>\n",
              "      <td>1.0</td>\n",
              "      <td>1.0</td>\n",
              "      <td>2.300000</td>\n",
              "    </tr>\n",
              "    <tr>\n",
              "      <th>25%</th>\n",
              "      <td>1.665950e+05</td>\n",
              "      <td>0.0</td>\n",
              "      <td>0.000000</td>\n",
              "      <td>0.000000</td>\n",
              "      <td>57.000000</td>\n",
              "      <td>0.000000</td>\n",
              "      <td>1.000000</td>\n",
              "      <td>1.000000</td>\n",
              "      <td>2.000000</td>\n",
              "      <td>11.000000</td>\n",
              "      <td>0.000000</td>\n",
              "      <td>0.000000</td>\n",
              "      <td>0.000000</td>\n",
              "      <td>0.000000</td>\n",
              "      <td>0.000000</td>\n",
              "      <td>0.000000</td>\n",
              "      <td>0.000000</td>\n",
              "      <td>0.0</td>\n",
              "      <td>0.000000</td>\n",
              "      <td>0.000000</td>\n",
              "      <td>0.000000</td>\n",
              "      <td>1.000000</td>\n",
              "      <td>16.000000</td>\n",
              "      <td>27.000000</td>\n",
              "      <td>0.000000</td>\n",
              "      <td>0.000000</td>\n",
              "      <td>0.000000</td>\n",
              "      <td>0.000000</td>\n",
              "      <td>0.000000</td>\n",
              "      <td>0.000000</td>\n",
              "      <td>1.000000</td>\n",
              "      <td>1.000000</td>\n",
              "      <td>0.000000</td>\n",
              "      <td>0.000000</td>\n",
              "      <td>2.000000</td>\n",
              "      <td>0.000000</td>\n",
              "      <td>0.000000</td>\n",
              "      <td>0.000000</td>\n",
              "      <td>0.000000</td>\n",
              "      <td>0.000000</td>\n",
              "      <td>1.0</td>\n",
              "      <td>1.0</td>\n",
              "      <td>6.100000</td>\n",
              "    </tr>\n",
              "    <tr>\n",
              "      <th>50%</th>\n",
              "      <td>3.038000e+05</td>\n",
              "      <td>0.0</td>\n",
              "      <td>1.000000</td>\n",
              "      <td>0.000000</td>\n",
              "      <td>90.000000</td>\n",
              "      <td>0.000000</td>\n",
              "      <td>2.000000</td>\n",
              "      <td>1.000000</td>\n",
              "      <td>4.000000</td>\n",
              "      <td>22.000000</td>\n",
              "      <td>0.000000</td>\n",
              "      <td>0.000000</td>\n",
              "      <td>0.000000</td>\n",
              "      <td>1.000000</td>\n",
              "      <td>0.000000</td>\n",
              "      <td>0.000000</td>\n",
              "      <td>0.000000</td>\n",
              "      <td>0.0</td>\n",
              "      <td>1.000000</td>\n",
              "      <td>0.000000</td>\n",
              "      <td>0.000000</td>\n",
              "      <td>3.000000</td>\n",
              "      <td>29.000000</td>\n",
              "      <td>45.000000</td>\n",
              "      <td>1.000000</td>\n",
              "      <td>1.000000</td>\n",
              "      <td>0.000000</td>\n",
              "      <td>0.000000</td>\n",
              "      <td>1.000000</td>\n",
              "      <td>0.000000</td>\n",
              "      <td>3.000000</td>\n",
              "      <td>3.000000</td>\n",
              "      <td>1.000000</td>\n",
              "      <td>0.000000</td>\n",
              "      <td>4.000000</td>\n",
              "      <td>1.000000</td>\n",
              "      <td>0.000000</td>\n",
              "      <td>0.000000</td>\n",
              "      <td>0.000000</td>\n",
              "      <td>1.000000</td>\n",
              "      <td>1.0</td>\n",
              "      <td>1.0</td>\n",
              "      <td>6.700000</td>\n",
              "    </tr>\n",
              "    <tr>\n",
              "      <th>75%</th>\n",
              "      <td>5.819190e+05</td>\n",
              "      <td>0.0</td>\n",
              "      <td>2.000000</td>\n",
              "      <td>0.000000</td>\n",
              "      <td>90.000000</td>\n",
              "      <td>0.000000</td>\n",
              "      <td>4.000000</td>\n",
              "      <td>2.000000</td>\n",
              "      <td>6.000000</td>\n",
              "      <td>37.000000</td>\n",
              "      <td>0.000000</td>\n",
              "      <td>0.000000</td>\n",
              "      <td>0.000000</td>\n",
              "      <td>2.000000</td>\n",
              "      <td>0.000000</td>\n",
              "      <td>1.000000</td>\n",
              "      <td>1.000000</td>\n",
              "      <td>0.0</td>\n",
              "      <td>3.000000</td>\n",
              "      <td>2.000000</td>\n",
              "      <td>1.000000</td>\n",
              "      <td>6.000000</td>\n",
              "      <td>46.000000</td>\n",
              "      <td>64.000000</td>\n",
              "      <td>2.000000</td>\n",
              "      <td>2.000000</td>\n",
              "      <td>2.000000</td>\n",
              "      <td>1.000000</td>\n",
              "      <td>2.000000</td>\n",
              "      <td>1.000000</td>\n",
              "      <td>6.000000</td>\n",
              "      <td>6.000000</td>\n",
              "      <td>1.000000</td>\n",
              "      <td>1.000000</td>\n",
              "      <td>6.000000</td>\n",
              "      <td>2.000000</td>\n",
              "      <td>1.000000</td>\n",
              "      <td>1.000000</td>\n",
              "      <td>0.000000</td>\n",
              "      <td>1.000000</td>\n",
              "      <td>1.0</td>\n",
              "      <td>1.0</td>\n",
              "      <td>7.300000</td>\n",
              "    </tr>\n",
              "    <tr>\n",
              "      <th>max</th>\n",
              "      <td>1.163226e+06</td>\n",
              "      <td>0.0</td>\n",
              "      <td>8.000000</td>\n",
              "      <td>9.000000</td>\n",
              "      <td>120.000000</td>\n",
              "      <td>4.000000</td>\n",
              "      <td>12.000000</td>\n",
              "      <td>8.000000</td>\n",
              "      <td>13.000000</td>\n",
              "      <td>178.000000</td>\n",
              "      <td>3.000000</td>\n",
              "      <td>4.000000</td>\n",
              "      <td>4.000000</td>\n",
              "      <td>11.000000</td>\n",
              "      <td>4.000000</td>\n",
              "      <td>6.000000</td>\n",
              "      <td>7.000000</td>\n",
              "      <td>0.0</td>\n",
              "      <td>26.000000</td>\n",
              "      <td>31.000000</td>\n",
              "      <td>11.000000</td>\n",
              "      <td>44.000000</td>\n",
              "      <td>188.000000</td>\n",
              "      <td>195.000000</td>\n",
              "      <td>20.000000</td>\n",
              "      <td>24.000000</td>\n",
              "      <td>16.000000</td>\n",
              "      <td>10.000000</td>\n",
              "      <td>20.000000</td>\n",
              "      <td>12.000000</td>\n",
              "      <td>29.000000</td>\n",
              "      <td>28.000000</td>\n",
              "      <td>8.000000</td>\n",
              "      <td>9.000000</td>\n",
              "      <td>23.000000</td>\n",
              "      <td>11.000000</td>\n",
              "      <td>8.000000</td>\n",
              "      <td>9.000000</td>\n",
              "      <td>1.000000</td>\n",
              "      <td>1.000000</td>\n",
              "      <td>1.0</td>\n",
              "      <td>1.0</td>\n",
              "      <td>9.900000</td>\n",
              "    </tr>\n",
              "  </tbody>\n",
              "</table>\n",
              "</div>"
            ],
            "text/plain": [
              "          player_id  acted_as_sweeper  ...  red_card        rating\n",
              "count  2.255500e+04            1615.0  ...      64.0  21189.000000\n",
              "mean   3.757534e+05               0.0  ...       1.0      6.696739\n",
              "std    2.648706e+05               0.0  ...       0.0      0.866871\n",
              "min    2.805000e+03               0.0  ...       1.0      2.300000\n",
              "25%    1.665950e+05               0.0  ...       1.0      6.100000\n",
              "50%    3.038000e+05               0.0  ...       1.0      6.700000\n",
              "75%    5.819190e+05               0.0  ...       1.0      7.300000\n",
              "max    1.163226e+06               0.0  ...       1.0      9.900000\n",
              "\n",
              "[8 rows x 43 columns]"
            ]
          },
          "metadata": {
            "tags": []
          },
          "execution_count": 33
        }
      ]
    },
    {
      "cell_type": "code",
      "metadata": {
        "id": "rAyspzHvaPO-",
        "colab_type": "code",
        "colab": {
          "base_uri": "https://localhost:8080/",
          "height": 51
        },
        "outputId": "075af221-b3e7-471b-b4a8-0f29d1ba1d76"
      },
      "source": [
        "train.acted_as_sweeper.value_counts()"
      ],
      "execution_count": null,
      "outputs": [
        {
          "output_type": "execute_result",
          "data": {
            "text/plain": [
              "0.0    1615\n",
              "Name: acted_as_sweeper, dtype: int64"
            ]
          },
          "metadata": {
            "tags": []
          },
          "execution_count": 29
        }
      ]
    },
    {
      "cell_type": "code",
      "metadata": {
        "id": "RTM8f0V3xxtG",
        "colab_type": "code",
        "colab": {}
      },
      "source": [
        "train = train.drop(['acted_as_sweeper','shots_woodwork'], axis=1)"
      ],
      "execution_count": null,
      "outputs": []
    },
    {
      "cell_type": "code",
      "metadata": {
        "id": "cR8cgreZ4da8",
        "colab_type": "code",
        "colab": {}
      },
      "source": [
        "train[train.rating.isnull()].index.values"
      ],
      "execution_count": null,
      "outputs": []
    },
    {
      "cell_type": "code",
      "metadata": {
        "id": "CLw2vWsC4-uN",
        "colab_type": "code",
        "colab": {}
      },
      "source": [
        "train = train.drop([ 1836,  2405,  4088,  4133,  5009,  5176,  6991,  7229, 10215,\n",
        "       10929, 11638, 11762, 13662, 13663, 13664, 13666, 13667, 13668,\n",
        "       13669, 13670, 13671, 13672, 13673, 13674, 13675, 13676, 15196,\n",
        "       15845, 16298, 16798, 17813, 18806, 20527, 21443])"
      ],
      "execution_count": null,
      "outputs": []
    },
    {
      "cell_type": "code",
      "metadata": {
        "id": "hs164z5b50M6",
        "colab_type": "code",
        "colab": {}
      },
      "source": [
        "x = train.minutes_played.unique()\n",
        "x.sort()\n",
        "print(x)"
      ],
      "execution_count": null,
      "outputs": []
    },
    {
      "cell_type": "code",
      "metadata": {
        "id": "Ctn4oxPa79M3",
        "colab_type": "code",
        "colab": {}
      },
      "source": [
        "train.iloc[train[(train.rating.isnull()) & (train['yellow_card']==1.0) & (train['red_card']==1.0)].index.values]"
      ],
      "execution_count": null,
      "outputs": []
    },
    {
      "cell_type": "code",
      "metadata": {
        "id": "m4yQx7iT8901",
        "colab_type": "code",
        "colab": {}
      },
      "source": [
        "train[(train.rating.isnull()) & ((train.goals>=1.0) | (train.assists>=1.0) | (train.saves>=1.0) | (train.key_passes>=1.0) | (train.chances_created>=1.0))].index.values"
      ],
      "execution_count": null,
      "outputs": []
    },
    {
      "cell_type": "code",
      "metadata": {
        "id": "hcXjKWZi92c7",
        "colab_type": "code",
        "colab": {}
      },
      "source": [
        "null_rating_indexes = train[(train.rating.isnull()) & (train.yellow_card==0.0) & (train.red_card==0.0)].index.values"
      ],
      "execution_count": null,
      "outputs": []
    },
    {
      "cell_type": "code",
      "metadata": {
        "id": "6llKcZ_0_yb3",
        "colab_type": "code",
        "colab": {
          "base_uri": "https://localhost:8080/",
          "height": 34
        },
        "outputId": "30927fcb-a5d5-4d2b-f252-a11d7ca59071"
      },
      "source": [
        "null_rating_indexes"
      ],
      "execution_count": null,
      "outputs": [
        {
          "output_type": "execute_result",
          "data": {
            "text/plain": [
              "array([    1,    28,    40, ..., 22426, 22440, 22541])"
            ]
          },
          "metadata": {
            "tags": []
          },
          "execution_count": 124
        }
      ]
    },
    {
      "cell_type": "code",
      "metadata": {
        "id": "Akv-3nSK-Pty",
        "colab_type": "code",
        "colab": {}
      },
      "source": [
        "yc_indexes = [757,  1268,  1599,  2829,  3573,  4686,  5106,  5135,  7705,\n",
        "        8562,  8607,  8974,  9031,  9590,  9978, 10243, 10496, 11376,\n",
        "       12040, 12264, 12404, 13277, 13556, 14080, 14276, 15266, 15603,\n",
        "       15770, 15923, 16367, 16504, 16561, 16629, 17116, 17256, 18169,\n",
        "       18708, 19166, 19714, 19772, 19984, 20164, 20567, 22176, 22412]\n",
        "train.at[16450,'rating'] = 2.0\n",
        "for yc_index in yc_indexes:\n",
        "  train.at[yc_index,'rating'] = 4.0\n",
        "train.at[8963,'rating'] = 3.0\n",
        "train.at[20862,'rating'] = 3.0\n",
        "contributed_null_indexes = [218,   451,   548,   728,   756,   785,   826,  1049,  1159,\n",
        "        1268,  1530,  1599,  1752,  1875,  1984,  1996,  2011,  2120,\n",
        "        2270,  2282,  2623,  2666,  3029,  3422,  3505,  3545,  3794,\n",
        "        4106,  4130,  4444,  5106,  5422,  5449,  5532,  5603,  5772,\n",
        "        6051,  6065,  6134,  6218,  6549,  6564,  6712,  7020,  7104,\n",
        "        7286,  7422,  7454,  7592,  7904,  7998,  8270,  8406,  8467,\n",
        "        8528,  8529,  8702,  8761,  8810,  8932,  8934,  8974,  8975,\n",
        "        9072,  9213,  9465,  9519,  9701,  9757,  9880,  9964,  9978,\n",
        "       10188, 10287, 10578, 10831, 10916, 10943, 11068, 11305, 11319,\n",
        "       11445, 11568, 11581, 12208, 12377, 12418, 12490, 12767, 12840,\n",
        "       12889, 12903, 12904, 12999, 13217, 13308, 13370, 13415, 13572,\n",
        "       13773, 13926, 14080, 14276, 14623, 14960, 15043, 15184, 15266,\n",
        "       15391, 15461, 15603, 15770, 15966, 16146, 16243, 16255, 16477,\n",
        "       16601, 16629, 16852, 17202, 17411, 17530, 17863, 17895, 18046,\n",
        "       18184, 18240, 18406, 18435, 18543, 18570, 18597, 18708, 18749,\n",
        "       19068, 19069, 19166, 19250, 19772, 20275, 20415, 20664, 20678,\n",
        "       20791, 20832, 20870, 21036, 21103, 21214, 21215, 21321, 21322,\n",
        "       21512, 21653, 21693, 21694, 21722, 21886, 22024, 22176]\n",
        "for contributed_null_index in contributed_null_indexes:\n",
        "  train.at[contributed_null_index,'rating'] = 6.0"
      ],
      "execution_count": null,
      "outputs": []
    },
    {
      "cell_type": "code",
      "metadata": {
        "id": "OpIDQYz4CjXW",
        "colab_type": "code",
        "colab": {}
      },
      "source": [
        "for null_rating_index in null_rating_indexes:\n",
        "  train.at[null_rating_index,'rating'] = 5.0"
      ],
      "execution_count": null,
      "outputs": []
    },
    {
      "cell_type": "code",
      "metadata": {
        "id": "PHHPerN4zxVP",
        "colab_type": "code",
        "colab": {}
      },
      "source": [
        "train.at[11096,'role'] = 'Defender'\n",
        "train.at[12088,'role'] = 'Defender'\n",
        "train.at[12941,'role'] = 'Defender'\n",
        "train.at[13421,'role'] = 'Defender'\n",
        "train.at[21369,'role'] = 'Midfielder'\n",
        "train.at[22188,'role'] = 'Attacker'"
      ],
      "execution_count": null,
      "outputs": []
    },
    {
      "cell_type": "code",
      "metadata": {
        "id": "YTR-m1yez5MD",
        "colab_type": "code",
        "colab": {
          "base_uri": "https://localhost:8080/",
          "height": 102
        },
        "outputId": "8a54b5ce-f9f5-4ded-b0fb-dacd1aa5fa9a"
      },
      "source": [
        "train.role.value_counts()"
      ],
      "execution_count": null,
      "outputs": [
        {
          "output_type": "execute_result",
          "data": {
            "text/plain": [
              "Midfielder    8653\n",
              "Defender      6866\n",
              "Attacker      5421\n",
              "Keeper        1615\n",
              "Name: role, dtype: int64"
            ]
          },
          "metadata": {
            "tags": []
          },
          "execution_count": 35
        }
      ]
    },
    {
      "cell_type": "code",
      "metadata": {
        "id": "CEFC4fpL5UYr",
        "colab_type": "code",
        "colab": {
          "base_uri": "https://localhost:8080/",
          "height": 34
        },
        "outputId": "61fff550-7277-4d71-91c5-f0984ebad60e"
      },
      "source": [
        "train.shape"
      ],
      "execution_count": null,
      "outputs": [
        {
          "output_type": "execute_result",
          "data": {
            "text/plain": [
              "(22521, 45)"
            ]
          },
          "metadata": {
            "tags": []
          },
          "execution_count": 55
        }
      ]
    },
    {
      "cell_type": "code",
      "metadata": {
        "id": "oeGFMtT0xTNk",
        "colab_type": "code",
        "colab": {}
      },
      "source": [
        "train.isnull().sum()"
      ],
      "execution_count": null,
      "outputs": []
    },
    {
      "cell_type": "code",
      "metadata": {
        "id": "9Bn1Sjut0jkM",
        "colab_type": "code",
        "colab": {}
      },
      "source": [
        "train[['diving_save','goals_conceded','punches','saves','saves_inside_box','throws','assists','chances_created','goals','pass_success','was_subbed','yellow_card','red_card']] = \n",
        "train[['diving_save','goals_conceded','punches','saves','saves_inside_box','throws','assists','chances_created','goals','pass_success','was_subbed','yellow_card','red_card']].fillna(value=0)"
      ],
      "execution_count": null,
      "outputs": []
    },
    {
      "cell_type": "code",
      "metadata": {
        "id": "6HVO_WZdxI4R",
        "colab_type": "code",
        "colab": {
          "base_uri": "https://localhost:8080/",
          "height": 765
        },
        "outputId": "eda609ff-8a5d-4c49-80b0-2d299b45308d"
      },
      "source": [
        "train.corr()['rating']"
      ],
      "execution_count": null,
      "outputs": [
        {
          "output_type": "execute_result",
          "data": {
            "text/plain": [
              "player_id             -0.057770\n",
              "acted_as_sweeper            NaN\n",
              "diving_save            0.369986\n",
              "goals_conceded        -0.377936\n",
              "minutes_played         0.325380\n",
              "punches                0.149295\n",
              "saves                  0.304273\n",
              "saves_inside_box       0.233254\n",
              "throws                 0.016570\n",
              "accurate_passes        0.292759\n",
              "assists                0.395370\n",
              "chances_created        0.452430\n",
              "goals                  0.519837\n",
              "total_shots            0.350867\n",
              "blocked_shots          0.128257\n",
              "shot_off_target        0.166607\n",
              "shot_on_target         0.405710\n",
              "shots_woodwork              NaN\n",
              "accurate_long_balls    0.104054\n",
              "crosses                0.195059\n",
              "key_passes             0.406039\n",
              "long_balls             0.064442\n",
              "passes                 0.309259\n",
              "touches                0.383700\n",
              "aerials_lost          -0.045295\n",
              "aerials_won            0.145272\n",
              "clearances             0.095739\n",
              "dispossessed          -0.008317\n",
              "dribbles_attempted     0.264932\n",
              "dribbles_succeeded     0.316599\n",
              "duels_lost             0.013743\n",
              "duels_won              0.390547\n",
              "fouls                  0.014232\n",
              "interceptions          0.175306\n",
              "recoveries             0.180903\n",
              "tackles_attempted      0.246355\n",
              "tackles_succeeded      0.242847\n",
              "was_fouled             0.201940\n",
              "is_a_sub              -0.271895\n",
              "was_subbed             0.326774\n",
              "yellow_card                 NaN\n",
              "red_card                    NaN\n",
              "rating                 1.000000\n",
              "Name: rating, dtype: float64"
            ]
          },
          "metadata": {
            "tags": []
          },
          "execution_count": 22
        }
      ]
    },
    {
      "cell_type": "code",
      "metadata": {
        "id": "rAhbf2yDv1cJ",
        "colab_type": "code",
        "colab": {
          "base_uri": "https://localhost:8080/",
          "height": 119
        },
        "outputId": "a2f465fe-de56-497f-9840-57caa70db6a7"
      },
      "source": [
        "train.goals.value_counts()"
      ],
      "execution_count": null,
      "outputs": [
        {
          "output_type": "execute_result",
          "data": {
            "text/plain": [
              "0.0    18784\n",
              "1.0     1932\n",
              "2.0      200\n",
              "3.0       23\n",
              "4.0        1\n",
              "Name: goals, dtype: int64"
            ]
          },
          "metadata": {
            "tags": []
          },
          "execution_count": 36
        }
      ]
    },
    {
      "cell_type": "code",
      "metadata": {
        "id": "pJqXqFs5s3Du",
        "colab_type": "code",
        "colab": {}
      },
      "source": [
        "import matplotlib.pyplot as plt\n",
        "plt.figure(figsize=(15, 8))\n",
        "rating_df = train[['minutes_played','rating']]\n",
        "goals_conceded_df = train.groupby(['minutes_played']).minutes_played.agg('count').to_frame('count').reset_index()\n",
        "sns.barplot(x=\"minutes_played\", y=\"count\", data=goals_conceded_df)"
      ],
      "execution_count": null,
      "outputs": []
    },
    {
      "cell_type": "code",
      "metadata": {
        "id": "y1q8x0HfDAQP",
        "colab_type": "code",
        "colab": {
          "base_uri": "https://localhost:8080/",
          "height": 901
        },
        "outputId": "9e910994-218d-4489-f0f8-1a93ffc8060d"
      },
      "source": [
        "train.info()"
      ],
      "execution_count": null,
      "outputs": [
        {
          "output_type": "stream",
          "text": [
            "<class 'pandas.core.frame.DataFrame'>\n",
            "Int64Index: 22521 entries, 0 to 22554\n",
            "Data columns (total 45 columns):\n",
            " #   Column               Non-Null Count  Dtype  \n",
            "---  ------               --------------  -----  \n",
            " 0   player_id            22521 non-null  int64  \n",
            " 1   name                 22521 non-null  object \n",
            " 2   role                 22521 non-null  object \n",
            " 3   diving_save          22521 non-null  int64  \n",
            " 4   goals_conceded       22521 non-null  int64  \n",
            " 5   minutes_played       22521 non-null  int64  \n",
            " 6   punches              22521 non-null  int64  \n",
            " 7   saves                22521 non-null  int64  \n",
            " 8   saves_inside_box     22521 non-null  int64  \n",
            " 9   throws               22521 non-null  int64  \n",
            " 10  accurate_passes      22521 non-null  int64  \n",
            " 11  assists              22521 non-null  int64  \n",
            " 12  chances_created      22521 non-null  int64  \n",
            " 13  goals                22521 non-null  int64  \n",
            " 14  pass_success         22521 non-null  float64\n",
            " 15  total_shots          22521 non-null  int64  \n",
            " 16  blocked_shots        22521 non-null  int64  \n",
            " 17  shot_accuracy        22521 non-null  float64\n",
            " 18  shot_off_target      22521 non-null  int64  \n",
            " 19  shot_on_target       22521 non-null  int64  \n",
            " 20  accurate_long_balls  22521 non-null  int64  \n",
            " 21  crosses              22521 non-null  int64  \n",
            " 22  key_passes           22521 non-null  int64  \n",
            " 23  long_balls           22521 non-null  int64  \n",
            " 24  passes               22521 non-null  int64  \n",
            " 25  touches              22521 non-null  int64  \n",
            " 26  aerials_lost         22521 non-null  int64  \n",
            " 27  aerials_won          22521 non-null  int64  \n",
            " 28  clearances           22521 non-null  int64  \n",
            " 29  dispossessed         22521 non-null  int64  \n",
            " 30  dribbles_attempted   22521 non-null  int64  \n",
            " 31  dribbles_succeeded   22521 non-null  int64  \n",
            " 32  duels_lost           22521 non-null  int64  \n",
            " 33  duels_won            22521 non-null  int64  \n",
            " 34  fouls                22521 non-null  int64  \n",
            " 35  interceptions        22521 non-null  int64  \n",
            " 36  recoveries           22521 non-null  int64  \n",
            " 37  tackles_attempted    22521 non-null  int64  \n",
            " 38  tackles_succeeded    22521 non-null  int64  \n",
            " 39  was_fouled           22521 non-null  int64  \n",
            " 40  is_a_sub             22521 non-null  int64  \n",
            " 41  was_subbed           22521 non-null  int64  \n",
            " 42  yellow_card          22521 non-null  int64  \n",
            " 43  red_card             22521 non-null  int64  \n",
            " 44  rating               22521 non-null  float64\n",
            "dtypes: float64(3), int64(40), object(2)\n",
            "memory usage: 8.5+ MB\n"
          ],
          "name": "stdout"
        }
      ]
    },
    {
      "cell_type": "code",
      "metadata": {
        "id": "5qK2EYWyDdsd",
        "colab_type": "code",
        "colab": {
          "base_uri": "https://localhost:8080/",
          "height": 309
        },
        "outputId": "85cb62cf-1a5a-407d-b930-ef5654a70aa1"
      },
      "source": [
        "train.head()"
      ],
      "execution_count": null,
      "outputs": [
        {
          "output_type": "execute_result",
          "data": {
            "text/html": [
              "<div>\n",
              "<style scoped>\n",
              "    .dataframe tbody tr th:only-of-type {\n",
              "        vertical-align: middle;\n",
              "    }\n",
              "\n",
              "    .dataframe tbody tr th {\n",
              "        vertical-align: top;\n",
              "    }\n",
              "\n",
              "    .dataframe thead th {\n",
              "        text-align: right;\n",
              "    }\n",
              "</style>\n",
              "<table border=\"1\" class=\"dataframe\">\n",
              "  <thead>\n",
              "    <tr style=\"text-align: right;\">\n",
              "      <th></th>\n",
              "      <th>player_id</th>\n",
              "      <th>name</th>\n",
              "      <th>role</th>\n",
              "      <th>diving_save</th>\n",
              "      <th>goals_conceded</th>\n",
              "      <th>minutes_played</th>\n",
              "      <th>punches</th>\n",
              "      <th>saves</th>\n",
              "      <th>saves_inside_box</th>\n",
              "      <th>throws</th>\n",
              "      <th>accurate_passes</th>\n",
              "      <th>assists</th>\n",
              "      <th>chances_created</th>\n",
              "      <th>goals</th>\n",
              "      <th>pass_success</th>\n",
              "      <th>total_shots</th>\n",
              "      <th>blocked_shots</th>\n",
              "      <th>shot_accuracy</th>\n",
              "      <th>shot_off_target</th>\n",
              "      <th>shot_on_target</th>\n",
              "      <th>accurate_long_balls</th>\n",
              "      <th>crosses</th>\n",
              "      <th>key_passes</th>\n",
              "      <th>long_balls</th>\n",
              "      <th>passes</th>\n",
              "      <th>touches</th>\n",
              "      <th>aerials_lost</th>\n",
              "      <th>aerials_won</th>\n",
              "      <th>clearances</th>\n",
              "      <th>dispossessed</th>\n",
              "      <th>dribbles_attempted</th>\n",
              "      <th>dribbles_succeeded</th>\n",
              "      <th>duels_lost</th>\n",
              "      <th>duels_won</th>\n",
              "      <th>fouls</th>\n",
              "      <th>interceptions</th>\n",
              "      <th>recoveries</th>\n",
              "      <th>tackles_attempted</th>\n",
              "      <th>tackles_succeeded</th>\n",
              "      <th>was_fouled</th>\n",
              "      <th>is_a_sub</th>\n",
              "      <th>was_subbed</th>\n",
              "      <th>yellow_card</th>\n",
              "      <th>red_card</th>\n",
              "      <th>rating</th>\n",
              "    </tr>\n",
              "  </thead>\n",
              "  <tbody>\n",
              "    <tr>\n",
              "      <th>0</th>\n",
              "      <td>169756</td>\n",
              "      <td>Adrian</td>\n",
              "      <td>Keeper</td>\n",
              "      <td>1</td>\n",
              "      <td>0</td>\n",
              "      <td>51</td>\n",
              "      <td>0</td>\n",
              "      <td>2</td>\n",
              "      <td>0</td>\n",
              "      <td>0</td>\n",
              "      <td>14</td>\n",
              "      <td>0</td>\n",
              "      <td>0</td>\n",
              "      <td>0</td>\n",
              "      <td>0</td>\n",
              "      <td>0</td>\n",
              "      <td>0</td>\n",
              "      <td>0%</td>\n",
              "      <td>0</td>\n",
              "      <td>0</td>\n",
              "      <td>4</td>\n",
              "      <td>0</td>\n",
              "      <td>0</td>\n",
              "      <td>8</td>\n",
              "      <td>18</td>\n",
              "      <td>20</td>\n",
              "      <td>0</td>\n",
              "      <td>0</td>\n",
              "      <td>0</td>\n",
              "      <td>0</td>\n",
              "      <td>0</td>\n",
              "      <td>0</td>\n",
              "      <td>0</td>\n",
              "      <td>0</td>\n",
              "      <td>0</td>\n",
              "      <td>0</td>\n",
              "      <td>1</td>\n",
              "      <td>0</td>\n",
              "      <td>0</td>\n",
              "      <td>0</td>\n",
              "      <td>1</td>\n",
              "      <td>0</td>\n",
              "      <td>0</td>\n",
              "      <td>0</td>\n",
              "      <td>6.2</td>\n",
              "    </tr>\n",
              "    <tr>\n",
              "      <th>1</th>\n",
              "      <td>38807</td>\n",
              "      <td>James Milner</td>\n",
              "      <td>Midfielder</td>\n",
              "      <td>0</td>\n",
              "      <td>0</td>\n",
              "      <td>4</td>\n",
              "      <td>0</td>\n",
              "      <td>0</td>\n",
              "      <td>0</td>\n",
              "      <td>0</td>\n",
              "      <td>2</td>\n",
              "      <td>0</td>\n",
              "      <td>0</td>\n",
              "      <td>0</td>\n",
              "      <td>67%</td>\n",
              "      <td>0</td>\n",
              "      <td>0</td>\n",
              "      <td>0%</td>\n",
              "      <td>0</td>\n",
              "      <td>0</td>\n",
              "      <td>0</td>\n",
              "      <td>0</td>\n",
              "      <td>0</td>\n",
              "      <td>0</td>\n",
              "      <td>3</td>\n",
              "      <td>3</td>\n",
              "      <td>0</td>\n",
              "      <td>0</td>\n",
              "      <td>0</td>\n",
              "      <td>0</td>\n",
              "      <td>0</td>\n",
              "      <td>0</td>\n",
              "      <td>0</td>\n",
              "      <td>0</td>\n",
              "      <td>0</td>\n",
              "      <td>0</td>\n",
              "      <td>1</td>\n",
              "      <td>0</td>\n",
              "      <td>0</td>\n",
              "      <td>0</td>\n",
              "      <td>1</td>\n",
              "      <td>0</td>\n",
              "      <td>0</td>\n",
              "      <td>0</td>\n",
              "      <td>5.0</td>\n",
              "    </tr>\n",
              "    <tr>\n",
              "      <th>2</th>\n",
              "      <td>303339</td>\n",
              "      <td>Sadio Mané</td>\n",
              "      <td>Attacker</td>\n",
              "      <td>0</td>\n",
              "      <td>0</td>\n",
              "      <td>16</td>\n",
              "      <td>0</td>\n",
              "      <td>0</td>\n",
              "      <td>0</td>\n",
              "      <td>0</td>\n",
              "      <td>9</td>\n",
              "      <td>0</td>\n",
              "      <td>0</td>\n",
              "      <td>0</td>\n",
              "      <td>82%</td>\n",
              "      <td>0</td>\n",
              "      <td>0</td>\n",
              "      <td>0%</td>\n",
              "      <td>0</td>\n",
              "      <td>0</td>\n",
              "      <td>0</td>\n",
              "      <td>0</td>\n",
              "      <td>0</td>\n",
              "      <td>0</td>\n",
              "      <td>11</td>\n",
              "      <td>13</td>\n",
              "      <td>0</td>\n",
              "      <td>0</td>\n",
              "      <td>0</td>\n",
              "      <td>1</td>\n",
              "      <td>1</td>\n",
              "      <td>1</td>\n",
              "      <td>2</td>\n",
              "      <td>1</td>\n",
              "      <td>0</td>\n",
              "      <td>0</td>\n",
              "      <td>1</td>\n",
              "      <td>0</td>\n",
              "      <td>0</td>\n",
              "      <td>0</td>\n",
              "      <td>1</td>\n",
              "      <td>0</td>\n",
              "      <td>0</td>\n",
              "      <td>0</td>\n",
              "      <td>6.1</td>\n",
              "    </tr>\n",
              "    <tr>\n",
              "      <th>3</th>\n",
              "      <td>319784</td>\n",
              "      <td>Alisson Becker</td>\n",
              "      <td>Keeper</td>\n",
              "      <td>1</td>\n",
              "      <td>0</td>\n",
              "      <td>39</td>\n",
              "      <td>0</td>\n",
              "      <td>2</td>\n",
              "      <td>0</td>\n",
              "      <td>1</td>\n",
              "      <td>9</td>\n",
              "      <td>0</td>\n",
              "      <td>0</td>\n",
              "      <td>0</td>\n",
              "      <td>0</td>\n",
              "      <td>0</td>\n",
              "      <td>0</td>\n",
              "      <td>0%</td>\n",
              "      <td>0</td>\n",
              "      <td>0</td>\n",
              "      <td>1</td>\n",
              "      <td>0</td>\n",
              "      <td>0</td>\n",
              "      <td>2</td>\n",
              "      <td>11</td>\n",
              "      <td>14</td>\n",
              "      <td>0</td>\n",
              "      <td>0</td>\n",
              "      <td>0</td>\n",
              "      <td>0</td>\n",
              "      <td>0</td>\n",
              "      <td>0</td>\n",
              "      <td>0</td>\n",
              "      <td>0</td>\n",
              "      <td>0</td>\n",
              "      <td>0</td>\n",
              "      <td>2</td>\n",
              "      <td>0</td>\n",
              "      <td>0</td>\n",
              "      <td>0</td>\n",
              "      <td>0</td>\n",
              "      <td>1</td>\n",
              "      <td>0</td>\n",
              "      <td>0</td>\n",
              "      <td>6.2</td>\n",
              "    </tr>\n",
              "    <tr>\n",
              "      <th>4</th>\n",
              "      <td>760712</td>\n",
              "      <td>Trent Alexander-Arnold</td>\n",
              "      <td>Defender</td>\n",
              "      <td>0</td>\n",
              "      <td>0</td>\n",
              "      <td>90</td>\n",
              "      <td>0</td>\n",
              "      <td>0</td>\n",
              "      <td>0</td>\n",
              "      <td>0</td>\n",
              "      <td>24</td>\n",
              "      <td>1</td>\n",
              "      <td>2</td>\n",
              "      <td>0</td>\n",
              "      <td>60%</td>\n",
              "      <td>2</td>\n",
              "      <td>0</td>\n",
              "      <td>50%</td>\n",
              "      <td>1</td>\n",
              "      <td>1</td>\n",
              "      <td>4</td>\n",
              "      <td>8</td>\n",
              "      <td>3</td>\n",
              "      <td>10</td>\n",
              "      <td>40</td>\n",
              "      <td>73</td>\n",
              "      <td>0</td>\n",
              "      <td>1</td>\n",
              "      <td>1</td>\n",
              "      <td>1</td>\n",
              "      <td>1</td>\n",
              "      <td>0</td>\n",
              "      <td>4</td>\n",
              "      <td>2</td>\n",
              "      <td>1</td>\n",
              "      <td>2</td>\n",
              "      <td>7</td>\n",
              "      <td>1</td>\n",
              "      <td>1</td>\n",
              "      <td>0</td>\n",
              "      <td>0</td>\n",
              "      <td>0</td>\n",
              "      <td>0</td>\n",
              "      <td>0</td>\n",
              "      <td>7.7</td>\n",
              "    </tr>\n",
              "  </tbody>\n",
              "</table>\n",
              "</div>"
            ],
            "text/plain": [
              "   player_id                    name        role  ...  yellow_card  red_card  rating\n",
              "0     169756                  Adrian      Keeper  ...            0         0     6.2\n",
              "1      38807            James Milner  Midfielder  ...            0         0     5.0\n",
              "2     303339              Sadio Mané    Attacker  ...            0         0     6.1\n",
              "3     319784          Alisson Becker      Keeper  ...            0         0     6.2\n",
              "4     760712  Trent Alexander-Arnold    Defender  ...            0         0     7.7\n",
              "\n",
              "[5 rows x 45 columns]"
            ]
          },
          "metadata": {
            "tags": []
          },
          "execution_count": 132
        }
      ]
    },
    {
      "cell_type": "code",
      "metadata": {
        "id": "HqeqBJNvDPLx",
        "colab_type": "code",
        "colab": {}
      },
      "source": [
        "float_to_int_columns = ['diving_save','goals_conceded','punches','saves','saves_inside_box','throws','assists','chances_created','goals','was_subbed','yellow_card','red_card']"
      ],
      "execution_count": null,
      "outputs": []
    },
    {
      "cell_type": "code",
      "metadata": {
        "id": "Kf8EQXbgESce",
        "colab_type": "code",
        "colab": {}
      },
      "source": [
        "for column_name in float_to_int_columns:\n",
        "  train[column_name] = train[column_name].astype(int)"
      ],
      "execution_count": null,
      "outputs": []
    },
    {
      "cell_type": "code",
      "metadata": {
        "id": "8bjUqvzME5zc",
        "colab_type": "code",
        "colab": {}
      },
      "source": [
        "train['pass_success'] = train['pass_success'].str.rstrip('%').astype('float') / 100.0\n",
        "train['shot_accuracy'] = train['shot_accuracy'].str.rstrip('%').astype('float') / 100.0"
      ],
      "execution_count": null,
      "outputs": []
    },
    {
      "cell_type": "code",
      "metadata": {
        "id": "YNtrjsUbFbsf",
        "colab_type": "code",
        "colab": {}
      },
      "source": [
        "train['pass_success'] = train['pass_success'].fillna(0).astype('float')"
      ],
      "execution_count": null,
      "outputs": []
    },
    {
      "cell_type": "code",
      "metadata": {
        "id": "bkCUCvGmFRc6",
        "colab_type": "code",
        "colab": {
          "base_uri": "https://localhost:8080/",
          "height": 309
        },
        "outputId": "98226e8f-b292-4a84-d0ab-47907bf84c20"
      },
      "source": [
        "train.head()"
      ],
      "execution_count": null,
      "outputs": [
        {
          "output_type": "execute_result",
          "data": {
            "text/html": [
              "<div>\n",
              "<style scoped>\n",
              "    .dataframe tbody tr th:only-of-type {\n",
              "        vertical-align: middle;\n",
              "    }\n",
              "\n",
              "    .dataframe tbody tr th {\n",
              "        vertical-align: top;\n",
              "    }\n",
              "\n",
              "    .dataframe thead th {\n",
              "        text-align: right;\n",
              "    }\n",
              "</style>\n",
              "<table border=\"1\" class=\"dataframe\">\n",
              "  <thead>\n",
              "    <tr style=\"text-align: right;\">\n",
              "      <th></th>\n",
              "      <th>player_id</th>\n",
              "      <th>name</th>\n",
              "      <th>role</th>\n",
              "      <th>acted_as_sweeper</th>\n",
              "      <th>diving_save</th>\n",
              "      <th>goals_conceded</th>\n",
              "      <th>minutes_played</th>\n",
              "      <th>punches</th>\n",
              "      <th>saves</th>\n",
              "      <th>saves_inside_box</th>\n",
              "      <th>throws</th>\n",
              "      <th>accurate_passes</th>\n",
              "      <th>assists</th>\n",
              "      <th>chances_created</th>\n",
              "      <th>goals</th>\n",
              "      <th>pass_success</th>\n",
              "      <th>total_shots</th>\n",
              "      <th>blocked_shots</th>\n",
              "      <th>shot_accuracy</th>\n",
              "      <th>shot_off_target</th>\n",
              "      <th>shot_on_target</th>\n",
              "      <th>shots_woodwork</th>\n",
              "      <th>accurate_long_balls</th>\n",
              "      <th>crosses</th>\n",
              "      <th>key_passes</th>\n",
              "      <th>long_balls</th>\n",
              "      <th>passes</th>\n",
              "      <th>touches</th>\n",
              "      <th>aerials_lost</th>\n",
              "      <th>aerials_won</th>\n",
              "      <th>clearances</th>\n",
              "      <th>dispossessed</th>\n",
              "      <th>dribbles_attempted</th>\n",
              "      <th>dribbles_succeeded</th>\n",
              "      <th>duels_lost</th>\n",
              "      <th>duels_won</th>\n",
              "      <th>fouls</th>\n",
              "      <th>interceptions</th>\n",
              "      <th>recoveries</th>\n",
              "      <th>tackles_attempted</th>\n",
              "      <th>tackles_succeeded</th>\n",
              "      <th>was_fouled</th>\n",
              "      <th>is_a_sub</th>\n",
              "      <th>was_subbed</th>\n",
              "      <th>yellow_card</th>\n",
              "      <th>red_card</th>\n",
              "      <th>rating</th>\n",
              "    </tr>\n",
              "  </thead>\n",
              "  <tbody>\n",
              "    <tr>\n",
              "      <th>0</th>\n",
              "      <td>169756</td>\n",
              "      <td>Adrian</td>\n",
              "      <td>Keeper</td>\n",
              "      <td>0.0</td>\n",
              "      <td>1.0</td>\n",
              "      <td>0.0</td>\n",
              "      <td>51</td>\n",
              "      <td>0.0</td>\n",
              "      <td>2.0</td>\n",
              "      <td>0.0</td>\n",
              "      <td>0.0</td>\n",
              "      <td>14</td>\n",
              "      <td>NaN</td>\n",
              "      <td>NaN</td>\n",
              "      <td>NaN</td>\n",
              "      <td>NaN</td>\n",
              "      <td>0</td>\n",
              "      <td>0</td>\n",
              "      <td>0%</td>\n",
              "      <td>0</td>\n",
              "      <td>0</td>\n",
              "      <td>0</td>\n",
              "      <td>4</td>\n",
              "      <td>0</td>\n",
              "      <td>0</td>\n",
              "      <td>8</td>\n",
              "      <td>18</td>\n",
              "      <td>20</td>\n",
              "      <td>0</td>\n",
              "      <td>0</td>\n",
              "      <td>0</td>\n",
              "      <td>0</td>\n",
              "      <td>0</td>\n",
              "      <td>0</td>\n",
              "      <td>0</td>\n",
              "      <td>0</td>\n",
              "      <td>0</td>\n",
              "      <td>0</td>\n",
              "      <td>1</td>\n",
              "      <td>0</td>\n",
              "      <td>0</td>\n",
              "      <td>0</td>\n",
              "      <td>1</td>\n",
              "      <td>0.0</td>\n",
              "      <td>NaN</td>\n",
              "      <td>NaN</td>\n",
              "      <td>6.2</td>\n",
              "    </tr>\n",
              "    <tr>\n",
              "      <th>1</th>\n",
              "      <td>38807</td>\n",
              "      <td>James Milner</td>\n",
              "      <td>Midfielder</td>\n",
              "      <td>NaN</td>\n",
              "      <td>NaN</td>\n",
              "      <td>NaN</td>\n",
              "      <td>4</td>\n",
              "      <td>NaN</td>\n",
              "      <td>NaN</td>\n",
              "      <td>NaN</td>\n",
              "      <td>NaN</td>\n",
              "      <td>2</td>\n",
              "      <td>0.0</td>\n",
              "      <td>0.0</td>\n",
              "      <td>0.0</td>\n",
              "      <td>67%</td>\n",
              "      <td>0</td>\n",
              "      <td>0</td>\n",
              "      <td>0%</td>\n",
              "      <td>0</td>\n",
              "      <td>0</td>\n",
              "      <td>0</td>\n",
              "      <td>0</td>\n",
              "      <td>0</td>\n",
              "      <td>0</td>\n",
              "      <td>0</td>\n",
              "      <td>3</td>\n",
              "      <td>3</td>\n",
              "      <td>0</td>\n",
              "      <td>0</td>\n",
              "      <td>0</td>\n",
              "      <td>0</td>\n",
              "      <td>0</td>\n",
              "      <td>0</td>\n",
              "      <td>0</td>\n",
              "      <td>0</td>\n",
              "      <td>0</td>\n",
              "      <td>0</td>\n",
              "      <td>1</td>\n",
              "      <td>0</td>\n",
              "      <td>0</td>\n",
              "      <td>0</td>\n",
              "      <td>1</td>\n",
              "      <td>0.0</td>\n",
              "      <td>NaN</td>\n",
              "      <td>NaN</td>\n",
              "      <td>NaN</td>\n",
              "    </tr>\n",
              "    <tr>\n",
              "      <th>2</th>\n",
              "      <td>303339</td>\n",
              "      <td>Sadio Mané</td>\n",
              "      <td>Attacker</td>\n",
              "      <td>NaN</td>\n",
              "      <td>NaN</td>\n",
              "      <td>NaN</td>\n",
              "      <td>16</td>\n",
              "      <td>NaN</td>\n",
              "      <td>NaN</td>\n",
              "      <td>NaN</td>\n",
              "      <td>NaN</td>\n",
              "      <td>9</td>\n",
              "      <td>0.0</td>\n",
              "      <td>0.0</td>\n",
              "      <td>0.0</td>\n",
              "      <td>82%</td>\n",
              "      <td>0</td>\n",
              "      <td>0</td>\n",
              "      <td>0%</td>\n",
              "      <td>0</td>\n",
              "      <td>0</td>\n",
              "      <td>0</td>\n",
              "      <td>0</td>\n",
              "      <td>0</td>\n",
              "      <td>0</td>\n",
              "      <td>0</td>\n",
              "      <td>11</td>\n",
              "      <td>13</td>\n",
              "      <td>0</td>\n",
              "      <td>0</td>\n",
              "      <td>0</td>\n",
              "      <td>1</td>\n",
              "      <td>1</td>\n",
              "      <td>1</td>\n",
              "      <td>2</td>\n",
              "      <td>1</td>\n",
              "      <td>0</td>\n",
              "      <td>0</td>\n",
              "      <td>1</td>\n",
              "      <td>0</td>\n",
              "      <td>0</td>\n",
              "      <td>0</td>\n",
              "      <td>1</td>\n",
              "      <td>0.0</td>\n",
              "      <td>NaN</td>\n",
              "      <td>NaN</td>\n",
              "      <td>6.1</td>\n",
              "    </tr>\n",
              "    <tr>\n",
              "      <th>3</th>\n",
              "      <td>319784</td>\n",
              "      <td>Alisson Becker</td>\n",
              "      <td>Keeper</td>\n",
              "      <td>0.0</td>\n",
              "      <td>1.0</td>\n",
              "      <td>0.0</td>\n",
              "      <td>39</td>\n",
              "      <td>0.0</td>\n",
              "      <td>2.0</td>\n",
              "      <td>0.0</td>\n",
              "      <td>1.0</td>\n",
              "      <td>9</td>\n",
              "      <td>NaN</td>\n",
              "      <td>NaN</td>\n",
              "      <td>NaN</td>\n",
              "      <td>NaN</td>\n",
              "      <td>0</td>\n",
              "      <td>0</td>\n",
              "      <td>0%</td>\n",
              "      <td>0</td>\n",
              "      <td>0</td>\n",
              "      <td>0</td>\n",
              "      <td>1</td>\n",
              "      <td>0</td>\n",
              "      <td>0</td>\n",
              "      <td>2</td>\n",
              "      <td>11</td>\n",
              "      <td>14</td>\n",
              "      <td>0</td>\n",
              "      <td>0</td>\n",
              "      <td>0</td>\n",
              "      <td>0</td>\n",
              "      <td>0</td>\n",
              "      <td>0</td>\n",
              "      <td>0</td>\n",
              "      <td>0</td>\n",
              "      <td>0</td>\n",
              "      <td>0</td>\n",
              "      <td>2</td>\n",
              "      <td>0</td>\n",
              "      <td>0</td>\n",
              "      <td>0</td>\n",
              "      <td>0</td>\n",
              "      <td>1.0</td>\n",
              "      <td>NaN</td>\n",
              "      <td>NaN</td>\n",
              "      <td>6.2</td>\n",
              "    </tr>\n",
              "    <tr>\n",
              "      <th>4</th>\n",
              "      <td>760712</td>\n",
              "      <td>Trent Alexander-Arnold</td>\n",
              "      <td>Defender</td>\n",
              "      <td>NaN</td>\n",
              "      <td>NaN</td>\n",
              "      <td>NaN</td>\n",
              "      <td>90</td>\n",
              "      <td>NaN</td>\n",
              "      <td>NaN</td>\n",
              "      <td>NaN</td>\n",
              "      <td>NaN</td>\n",
              "      <td>24</td>\n",
              "      <td>1.0</td>\n",
              "      <td>2.0</td>\n",
              "      <td>0.0</td>\n",
              "      <td>60%</td>\n",
              "      <td>2</td>\n",
              "      <td>0</td>\n",
              "      <td>50%</td>\n",
              "      <td>1</td>\n",
              "      <td>1</td>\n",
              "      <td>0</td>\n",
              "      <td>4</td>\n",
              "      <td>8</td>\n",
              "      <td>3</td>\n",
              "      <td>10</td>\n",
              "      <td>40</td>\n",
              "      <td>73</td>\n",
              "      <td>0</td>\n",
              "      <td>1</td>\n",
              "      <td>1</td>\n",
              "      <td>1</td>\n",
              "      <td>1</td>\n",
              "      <td>0</td>\n",
              "      <td>4</td>\n",
              "      <td>2</td>\n",
              "      <td>1</td>\n",
              "      <td>2</td>\n",
              "      <td>7</td>\n",
              "      <td>1</td>\n",
              "      <td>1</td>\n",
              "      <td>0</td>\n",
              "      <td>0</td>\n",
              "      <td>NaN</td>\n",
              "      <td>NaN</td>\n",
              "      <td>NaN</td>\n",
              "      <td>7.7</td>\n",
              "    </tr>\n",
              "  </tbody>\n",
              "</table>\n",
              "</div>"
            ],
            "text/plain": [
              "   player_id                    name        role  ...  yellow_card  red_card  rating\n",
              "0     169756                  Adrian      Keeper  ...          NaN       NaN     6.2\n",
              "1      38807            James Milner  Midfielder  ...          NaN       NaN     NaN\n",
              "2     303339              Sadio Mané    Attacker  ...          NaN       NaN     6.1\n",
              "3     319784          Alisson Becker      Keeper  ...          NaN       NaN     6.2\n",
              "4     760712  Trent Alexander-Arnold    Defender  ...          NaN       NaN     7.7\n",
              "\n",
              "[5 rows x 47 columns]"
            ]
          },
          "metadata": {
            "tags": []
          },
          "execution_count": 28
        }
      ]
    },
    {
      "cell_type": "code",
      "metadata": {
        "id": "4ZnTf4-pGTjB",
        "colab_type": "code",
        "colab": {}
      },
      "source": [
        "from sklearn.preprocessing import MinMaxScaler\n",
        "scaler = MinMaxScaler(feature_range=(0,1))\n",
        "train['minutes_played'] = scaler.fit_transform(train[['minutes_played']]) "
      ],
      "execution_count": null,
      "outputs": []
    },
    {
      "cell_type": "code",
      "metadata": {
        "id": "0XlXhDuSG6kp",
        "colab_type": "code",
        "colab": {
          "base_uri": "https://localhost:8080/",
          "height": 595
        },
        "outputId": "47f26220-8e4a-4724-c8ec-f2f96250de2e"
      },
      "source": [
        "plt.figure(figsize=(10,10))\n",
        "sns.heatmap(train.corr()[['rating']],annot=True)\n",
        "plt.show()"
      ],
      "execution_count": null,
      "outputs": [
        {
          "output_type": "display_data",
          "data": {
            "image/png": "[encoded data removed]",
            "text/plain": [
              "<Figure size 720x720 with 2 Axes>"
            ]
          },
          "metadata": {
            "tags": [],
            "needs_background": "light"
          }
        }
      ]
    },
    {
      "cell_type": "code",
      "metadata": {
        "id": "z3UNpd71Hid-",
        "colab_type": "code",
        "colab": {}
      },
      "source": [
        "train.to_csv('/content/drive/My Drive/Colab Notebooks/data/FootballPlayersMatchRatingPrediction/CleanedPlayersTrainData.csv')"
      ],
      "execution_count": null,
      "outputs": []
    },
    {
      "cell_type": "code",
      "metadata": {
        "id": "dPP4rQJVqaUr",
        "colab_type": "code",
        "colab": {}
      },
      "source": [
        "train = pd.read_csv('/content/drive/My Drive/Colab Notebooks/data/FootballPlayersMatchRatingPrediction/CleanedPlayersTrainData.csv')\n",
        "train = train.drop(['Unnamed: 0'],axis=1)"
      ],
      "execution_count": null,
      "outputs": []
    },
    {
      "cell_type": "code",
      "metadata": {
        "id": "G5gkloYoqfoi",
        "colab_type": "code",
        "colab": {
          "base_uri": "https://localhost:8080/",
          "height": 34
        },
        "outputId": "bcbf9b0a-5061-45b9-8aef-75b4ff8f5b7a"
      },
      "source": [
        "train[train.role=='Keeper'].index.values"
      ],
      "execution_count": null,
      "outputs": [
        {
          "output_type": "execute_result",
          "data": {
            "text/plain": [
              "1614"
            ]
          },
          "metadata": {
            "tags": []
          },
          "execution_count": 267
        }
      ]
    },
    {
      "cell_type": "code",
      "metadata": {
        "id": "aUQnzbB9rMoW",
        "colab_type": "code",
        "colab": {
          "base_uri": "https://localhost:8080/",
          "height": 34
        },
        "outputId": "5d61b636-21ca-44e0-95bb-85f567cc77c9"
      },
      "source": [
        "train.shape"
      ],
      "execution_count": null,
      "outputs": [
        {
          "output_type": "execute_result",
          "data": {
            "text/plain": [
              "(22521, 45)"
            ]
          },
          "metadata": {
            "tags": []
          },
          "execution_count": 4
        }
      ]
    },
    {
      "cell_type": "code",
      "metadata": {
        "id": "VoXwvbK8rcvS",
        "colab_type": "code",
        "colab": {}
      },
      "source": [
        "train.columns"
      ],
      "execution_count": null,
      "outputs": []
    },
    {
      "cell_type": "code",
      "metadata": {
        "id": "tTVXqeqU_6SE",
        "colab_type": "code",
        "colab": {}
      },
      "source": [
        "toFindPassAccIndexes = train[(train.pass_success==0) & (train.passes>0)].index.values"
      ],
      "execution_count": null,
      "outputs": []
    },
    {
      "cell_type": "code",
      "metadata": {
        "id": "fmsS_2yhBnVB",
        "colab_type": "code",
        "colab": {
          "base_uri": "https://localhost:8080/",
          "height": 51
        },
        "outputId": "03e64967-ff07-4729-dd05-aca9eeb43873"
      },
      "source": [
        "train[(train.pass_success==0) & (train.passes>0)]['accurate_passes'].value_counts()"
      ],
      "execution_count": null,
      "outputs": [
        {
          "output_type": "execute_result",
          "data": {
            "text/plain": [
              "0    159\n",
              "Name: accurate_passes, dtype: int64"
            ]
          },
          "metadata": {
            "tags": []
          },
          "execution_count": 4
        }
      ]
    },
    {
      "cell_type": "code",
      "metadata": {
        "id": "LjxoI-ofBG8D",
        "colab_type": "code",
        "colab": {}
      },
      "source": [
        "for passAccIndex in toFindPassAccIndexes:\n",
        "  if train.loc[passAccIndex, 'passes'] > 0:\n",
        "    train.at[passAccIndex, 'pass_success'] = train.loc[passAccIndex, 'accurate_passes'] / train.loc[passAccIndex, 'passes']"
      ],
      "execution_count": null,
      "outputs": []
    },
    {
      "cell_type": "code",
      "metadata": {
        "id": "SZjGi7S0ZU9T",
        "colab_type": "code",
        "colab": {}
      },
      "source": [
        "train.describe()"
      ],
      "execution_count": null,
      "outputs": []
    },
    {
      "cell_type": "code",
      "metadata": {
        "id": "3MFjm4rVrAI8",
        "colab_type": "code",
        "colab": {
          "base_uri": "https://localhost:8080/",
          "height": 317
        },
        "outputId": "b689b49a-d17d-4ab6-a795-36fda81b07b8"
      },
      "source": [
        "train[train.role=='Keeper'].describe()"
      ],
      "execution_count": null,
      "outputs": [
        {
          "output_type": "execute_result",
          "data": {
            "text/html": [
              "<div>\n",
              "<style scoped>\n",
              "    .dataframe tbody tr th:only-of-type {\n",
              "        vertical-align: middle;\n",
              "    }\n",
              "\n",
              "    .dataframe tbody tr th {\n",
              "        vertical-align: top;\n",
              "    }\n",
              "\n",
              "    .dataframe thead th {\n",
              "        text-align: right;\n",
              "    }\n",
              "</style>\n",
              "<table border=\"1\" class=\"dataframe\">\n",
              "  <thead>\n",
              "    <tr style=\"text-align: right;\">\n",
              "      <th></th>\n",
              "      <th>player_id</th>\n",
              "      <th>acted_as_sweeper</th>\n",
              "      <th>diving_save</th>\n",
              "      <th>goals_conceded</th>\n",
              "      <th>minutes_played</th>\n",
              "      <th>punches</th>\n",
              "      <th>saves</th>\n",
              "      <th>saves_inside_box</th>\n",
              "      <th>throws</th>\n",
              "      <th>accurate_passes</th>\n",
              "      <th>assists</th>\n",
              "      <th>chances_created</th>\n",
              "      <th>goals</th>\n",
              "      <th>total_shots</th>\n",
              "      <th>blocked_shots</th>\n",
              "      <th>shot_off_target</th>\n",
              "      <th>shot_on_target</th>\n",
              "      <th>shots_woodwork</th>\n",
              "      <th>accurate_long_balls</th>\n",
              "      <th>crosses</th>\n",
              "      <th>key_passes</th>\n",
              "      <th>long_balls</th>\n",
              "      <th>passes</th>\n",
              "      <th>touches</th>\n",
              "      <th>aerials_lost</th>\n",
              "      <th>aerials_won</th>\n",
              "      <th>clearances</th>\n",
              "      <th>dispossessed</th>\n",
              "      <th>dribbles_attempted</th>\n",
              "      <th>dribbles_succeeded</th>\n",
              "      <th>duels_lost</th>\n",
              "      <th>duels_won</th>\n",
              "      <th>fouls</th>\n",
              "      <th>interceptions</th>\n",
              "      <th>recoveries</th>\n",
              "      <th>tackles_attempted</th>\n",
              "      <th>tackles_succeeded</th>\n",
              "      <th>was_fouled</th>\n",
              "      <th>is_a_sub</th>\n",
              "      <th>was_subbed</th>\n",
              "      <th>yellow_card</th>\n",
              "      <th>red_card</th>\n",
              "      <th>rating</th>\n",
              "    </tr>\n",
              "  </thead>\n",
              "  <tbody>\n",
              "    <tr>\n",
              "      <th>count</th>\n",
              "      <td>1.615000e+03</td>\n",
              "      <td>1615.0</td>\n",
              "      <td>1615.000000</td>\n",
              "      <td>1615.000000</td>\n",
              "      <td>1615.000000</td>\n",
              "      <td>1615.000000</td>\n",
              "      <td>1615.000000</td>\n",
              "      <td>1615.000000</td>\n",
              "      <td>1615.000000</td>\n",
              "      <td>1615.000000</td>\n",
              "      <td>0.0</td>\n",
              "      <td>0.0</td>\n",
              "      <td>0.0</td>\n",
              "      <td>1615.000000</td>\n",
              "      <td>1615.000000</td>\n",
              "      <td>1615.000000</td>\n",
              "      <td>1615.000000</td>\n",
              "      <td>1615.0</td>\n",
              "      <td>1615.000000</td>\n",
              "      <td>1615.0</td>\n",
              "      <td>1615.000000</td>\n",
              "      <td>1615.000000</td>\n",
              "      <td>1615.000000</td>\n",
              "      <td>1615.000000</td>\n",
              "      <td>1615.000000</td>\n",
              "      <td>1615.000000</td>\n",
              "      <td>1615.000000</td>\n",
              "      <td>1615.000000</td>\n",
              "      <td>1615.000000</td>\n",
              "      <td>1615.000000</td>\n",
              "      <td>1615.000000</td>\n",
              "      <td>1615.000000</td>\n",
              "      <td>1615.000000</td>\n",
              "      <td>1615.000000</td>\n",
              "      <td>1615.000000</td>\n",
              "      <td>1615.000000</td>\n",
              "      <td>1615.000000</td>\n",
              "      <td>1615.000000</td>\n",
              "      <td>1615.000000</td>\n",
              "      <td>20.000000</td>\n",
              "      <td>59.0</td>\n",
              "      <td>4.0</td>\n",
              "      <td>1612.000000</td>\n",
              "    </tr>\n",
              "    <tr>\n",
              "      <th>mean</th>\n",
              "      <td>2.604101e+05</td>\n",
              "      <td>0.0</td>\n",
              "      <td>1.426625</td>\n",
              "      <td>0.317028</td>\n",
              "      <td>89.454489</td>\n",
              "      <td>0.305263</td>\n",
              "      <td>2.716409</td>\n",
              "      <td>1.665635</td>\n",
              "      <td>4.220433</td>\n",
              "      <td>18.529412</td>\n",
              "      <td>NaN</td>\n",
              "      <td>NaN</td>\n",
              "      <td>NaN</td>\n",
              "      <td>0.003715</td>\n",
              "      <td>0.001238</td>\n",
              "      <td>0.000619</td>\n",
              "      <td>0.001858</td>\n",
              "      <td>0.0</td>\n",
              "      <td>6.402477</td>\n",
              "      <td>0.0</td>\n",
              "      <td>0.020433</td>\n",
              "      <td>15.450155</td>\n",
              "      <td>27.759752</td>\n",
              "      <td>36.622291</td>\n",
              "      <td>0.026625</td>\n",
              "      <td>0.242105</td>\n",
              "      <td>0.680495</td>\n",
              "      <td>0.004334</td>\n",
              "      <td>0.012384</td>\n",
              "      <td>0.012384</td>\n",
              "      <td>0.078638</td>\n",
              "      <td>0.360991</td>\n",
              "      <td>0.013622</td>\n",
              "      <td>0.039628</td>\n",
              "      <td>7.977709</td>\n",
              "      <td>0.026625</td>\n",
              "      <td>0.019195</td>\n",
              "      <td>0.113313</td>\n",
              "      <td>0.007430</td>\n",
              "      <td>0.400000</td>\n",
              "      <td>1.0</td>\n",
              "      <td>1.0</td>\n",
              "      <td>6.468114</td>\n",
              "    </tr>\n",
              "    <tr>\n",
              "      <th>std</th>\n",
              "      <td>2.175700e+05</td>\n",
              "      <td>0.0</td>\n",
              "      <td>1.353561</td>\n",
              "      <td>1.002995</td>\n",
              "      <td>6.500996</td>\n",
              "      <td>0.589302</td>\n",
              "      <td>1.918106</td>\n",
              "      <td>1.449574</td>\n",
              "      <td>2.429875</td>\n",
              "      <td>8.020202</td>\n",
              "      <td>NaN</td>\n",
              "      <td>NaN</td>\n",
              "      <td>NaN</td>\n",
              "      <td>0.070305</td>\n",
              "      <td>0.035180</td>\n",
              "      <td>0.024884</td>\n",
              "      <td>0.043073</td>\n",
              "      <td>0.0</td>\n",
              "      <td>3.702070</td>\n",
              "      <td>0.0</td>\n",
              "      <td>0.141521</td>\n",
              "      <td>7.988132</td>\n",
              "      <td>8.758879</td>\n",
              "      <td>10.030548</td>\n",
              "      <td>0.172192</td>\n",
              "      <td>0.519947</td>\n",
              "      <td>0.879737</td>\n",
              "      <td>0.065713</td>\n",
              "      <td>0.110626</td>\n",
              "      <td>0.110626</td>\n",
              "      <td>0.284909</td>\n",
              "      <td>0.646477</td>\n",
              "      <td>0.115953</td>\n",
              "      <td>0.207457</td>\n",
              "      <td>3.176275</td>\n",
              "      <td>0.164838</td>\n",
              "      <td>0.141695</td>\n",
              "      <td>0.350485</td>\n",
              "      <td>0.085905</td>\n",
              "      <td>0.502625</td>\n",
              "      <td>0.0</td>\n",
              "      <td>0.0</td>\n",
              "      <td>1.066894</td>\n",
              "    </tr>\n",
              "    <tr>\n",
              "      <th>min</th>\n",
              "      <td>1.627700e+04</td>\n",
              "      <td>0.0</td>\n",
              "      <td>0.000000</td>\n",
              "      <td>0.000000</td>\n",
              "      <td>5.000000</td>\n",
              "      <td>0.000000</td>\n",
              "      <td>0.000000</td>\n",
              "      <td>0.000000</td>\n",
              "      <td>0.000000</td>\n",
              "      <td>0.000000</td>\n",
              "      <td>NaN</td>\n",
              "      <td>NaN</td>\n",
              "      <td>NaN</td>\n",
              "      <td>0.000000</td>\n",
              "      <td>0.000000</td>\n",
              "      <td>0.000000</td>\n",
              "      <td>0.000000</td>\n",
              "      <td>0.0</td>\n",
              "      <td>0.000000</td>\n",
              "      <td>0.0</td>\n",
              "      <td>0.000000</td>\n",
              "      <td>0.000000</td>\n",
              "      <td>2.000000</td>\n",
              "      <td>2.000000</td>\n",
              "      <td>0.000000</td>\n",
              "      <td>0.000000</td>\n",
              "      <td>0.000000</td>\n",
              "      <td>0.000000</td>\n",
              "      <td>0.000000</td>\n",
              "      <td>0.000000</td>\n",
              "      <td>0.000000</td>\n",
              "      <td>0.000000</td>\n",
              "      <td>0.000000</td>\n",
              "      <td>0.000000</td>\n",
              "      <td>0.000000</td>\n",
              "      <td>0.000000</td>\n",
              "      <td>0.000000</td>\n",
              "      <td>0.000000</td>\n",
              "      <td>0.000000</td>\n",
              "      <td>0.000000</td>\n",
              "      <td>1.0</td>\n",
              "      <td>1.0</td>\n",
              "      <td>2.300000</td>\n",
              "    </tr>\n",
              "    <tr>\n",
              "      <th>25%</th>\n",
              "      <td>9.662300e+04</td>\n",
              "      <td>0.0</td>\n",
              "      <td>0.000000</td>\n",
              "      <td>0.000000</td>\n",
              "      <td>90.000000</td>\n",
              "      <td>0.000000</td>\n",
              "      <td>1.000000</td>\n",
              "      <td>1.000000</td>\n",
              "      <td>2.000000</td>\n",
              "      <td>13.000000</td>\n",
              "      <td>NaN</td>\n",
              "      <td>NaN</td>\n",
              "      <td>NaN</td>\n",
              "      <td>0.000000</td>\n",
              "      <td>0.000000</td>\n",
              "      <td>0.000000</td>\n",
              "      <td>0.000000</td>\n",
              "      <td>0.0</td>\n",
              "      <td>4.000000</td>\n",
              "      <td>0.0</td>\n",
              "      <td>0.000000</td>\n",
              "      <td>9.000000</td>\n",
              "      <td>22.000000</td>\n",
              "      <td>30.000000</td>\n",
              "      <td>0.000000</td>\n",
              "      <td>0.000000</td>\n",
              "      <td>0.000000</td>\n",
              "      <td>0.000000</td>\n",
              "      <td>0.000000</td>\n",
              "      <td>0.000000</td>\n",
              "      <td>0.000000</td>\n",
              "      <td>0.000000</td>\n",
              "      <td>0.000000</td>\n",
              "      <td>0.000000</td>\n",
              "      <td>6.000000</td>\n",
              "      <td>0.000000</td>\n",
              "      <td>0.000000</td>\n",
              "      <td>0.000000</td>\n",
              "      <td>0.000000</td>\n",
              "      <td>0.000000</td>\n",
              "      <td>1.0</td>\n",
              "      <td>1.0</td>\n",
              "      <td>5.700000</td>\n",
              "    </tr>\n",
              "    <tr>\n",
              "      <th>50%</th>\n",
              "      <td>1.845540e+05</td>\n",
              "      <td>0.0</td>\n",
              "      <td>1.000000</td>\n",
              "      <td>0.000000</td>\n",
              "      <td>90.000000</td>\n",
              "      <td>0.000000</td>\n",
              "      <td>2.000000</td>\n",
              "      <td>1.000000</td>\n",
              "      <td>4.000000</td>\n",
              "      <td>17.000000</td>\n",
              "      <td>NaN</td>\n",
              "      <td>NaN</td>\n",
              "      <td>NaN</td>\n",
              "      <td>0.000000</td>\n",
              "      <td>0.000000</td>\n",
              "      <td>0.000000</td>\n",
              "      <td>0.000000</td>\n",
              "      <td>0.0</td>\n",
              "      <td>6.000000</td>\n",
              "      <td>0.0</td>\n",
              "      <td>0.000000</td>\n",
              "      <td>15.000000</td>\n",
              "      <td>27.000000</td>\n",
              "      <td>36.000000</td>\n",
              "      <td>0.000000</td>\n",
              "      <td>0.000000</td>\n",
              "      <td>0.000000</td>\n",
              "      <td>0.000000</td>\n",
              "      <td>0.000000</td>\n",
              "      <td>0.000000</td>\n",
              "      <td>0.000000</td>\n",
              "      <td>0.000000</td>\n",
              "      <td>0.000000</td>\n",
              "      <td>0.000000</td>\n",
              "      <td>8.000000</td>\n",
              "      <td>0.000000</td>\n",
              "      <td>0.000000</td>\n",
              "      <td>0.000000</td>\n",
              "      <td>0.000000</td>\n",
              "      <td>0.000000</td>\n",
              "      <td>1.0</td>\n",
              "      <td>1.0</td>\n",
              "      <td>6.500000</td>\n",
              "    </tr>\n",
              "    <tr>\n",
              "      <th>75%</th>\n",
              "      <td>3.965260e+05</td>\n",
              "      <td>0.0</td>\n",
              "      <td>2.000000</td>\n",
              "      <td>0.000000</td>\n",
              "      <td>90.000000</td>\n",
              "      <td>0.000000</td>\n",
              "      <td>4.000000</td>\n",
              "      <td>2.000000</td>\n",
              "      <td>6.000000</td>\n",
              "      <td>22.000000</td>\n",
              "      <td>NaN</td>\n",
              "      <td>NaN</td>\n",
              "      <td>NaN</td>\n",
              "      <td>0.000000</td>\n",
              "      <td>0.000000</td>\n",
              "      <td>0.000000</td>\n",
              "      <td>0.000000</td>\n",
              "      <td>0.0</td>\n",
              "      <td>9.000000</td>\n",
              "      <td>0.0</td>\n",
              "      <td>0.000000</td>\n",
              "      <td>21.000000</td>\n",
              "      <td>32.000000</td>\n",
              "      <td>42.000000</td>\n",
              "      <td>0.000000</td>\n",
              "      <td>0.000000</td>\n",
              "      <td>1.000000</td>\n",
              "      <td>0.000000</td>\n",
              "      <td>0.000000</td>\n",
              "      <td>0.000000</td>\n",
              "      <td>0.000000</td>\n",
              "      <td>1.000000</td>\n",
              "      <td>0.000000</td>\n",
              "      <td>0.000000</td>\n",
              "      <td>10.000000</td>\n",
              "      <td>0.000000</td>\n",
              "      <td>0.000000</td>\n",
              "      <td>0.000000</td>\n",
              "      <td>0.000000</td>\n",
              "      <td>1.000000</td>\n",
              "      <td>1.0</td>\n",
              "      <td>1.0</td>\n",
              "      <td>7.200000</td>\n",
              "    </tr>\n",
              "    <tr>\n",
              "      <th>max</th>\n",
              "      <td>1.110717e+06</td>\n",
              "      <td>0.0</td>\n",
              "      <td>8.000000</td>\n",
              "      <td>9.000000</td>\n",
              "      <td>120.000000</td>\n",
              "      <td>4.000000</td>\n",
              "      <td>12.000000</td>\n",
              "      <td>8.000000</td>\n",
              "      <td>13.000000</td>\n",
              "      <td>61.000000</td>\n",
              "      <td>NaN</td>\n",
              "      <td>NaN</td>\n",
              "      <td>NaN</td>\n",
              "      <td>2.000000</td>\n",
              "      <td>1.000000</td>\n",
              "      <td>1.000000</td>\n",
              "      <td>1.000000</td>\n",
              "      <td>0.0</td>\n",
              "      <td>26.000000</td>\n",
              "      <td>0.0</td>\n",
              "      <td>1.000000</td>\n",
              "      <td>44.000000</td>\n",
              "      <td>69.000000</td>\n",
              "      <td>79.000000</td>\n",
              "      <td>2.000000</td>\n",
              "      <td>4.000000</td>\n",
              "      <td>5.000000</td>\n",
              "      <td>1.000000</td>\n",
              "      <td>1.000000</td>\n",
              "      <td>1.000000</td>\n",
              "      <td>2.000000</td>\n",
              "      <td>6.000000</td>\n",
              "      <td>1.000000</td>\n",
              "      <td>2.000000</td>\n",
              "      <td>20.000000</td>\n",
              "      <td>2.000000</td>\n",
              "      <td>2.000000</td>\n",
              "      <td>3.000000</td>\n",
              "      <td>1.000000</td>\n",
              "      <td>1.000000</td>\n",
              "      <td>1.0</td>\n",
              "      <td>1.0</td>\n",
              "      <td>9.200000</td>\n",
              "    </tr>\n",
              "  </tbody>\n",
              "</table>\n",
              "</div>"
            ],
            "text/plain": [
              "          player_id  acted_as_sweeper  ...  red_card       rating\n",
              "count  1.615000e+03            1615.0  ...       4.0  1612.000000\n",
              "mean   2.604101e+05               0.0  ...       1.0     6.468114\n",
              "std    2.175700e+05               0.0  ...       0.0     1.066894\n",
              "min    1.627700e+04               0.0  ...       1.0     2.300000\n",
              "25%    9.662300e+04               0.0  ...       1.0     5.700000\n",
              "50%    1.845540e+05               0.0  ...       1.0     6.500000\n",
              "75%    3.965260e+05               0.0  ...       1.0     7.200000\n",
              "max    1.110717e+06               0.0  ...       1.0     9.200000\n",
              "\n",
              "[8 rows x 43 columns]"
            ]
          },
          "metadata": {
            "tags": []
          },
          "execution_count": 26
        }
      ]
    },
    {
      "cell_type": "code",
      "metadata": {
        "id": "9wj6qCo3q4So",
        "colab_type": "code",
        "colab": {}
      },
      "source": [
        "player_train = train.drop(train[train.role=='Keeper'].index.values)\n",
        "keeper_train = train[train.role=='Keeper']\n",
        "player_train = player_train.reset_index()\n",
        "keeper_train = keeper_train.reset_index()\n",
        "player_train = player_train.drop(['index'],axis=1)\n",
        "keeper_train = keeper_train.drop(['index'],axis=1)\n",
        "player_train = player_train.drop(['diving_save','goals_conceded','punches','saves','saves_inside_box','throws'], axis=1)\n",
        "keeper_train = keeper_train.drop(['assists','chances_created','goals','crosses','blocked_shots'], axis=1)"
      ],
      "execution_count": null,
      "outputs": []
    },
    {
      "cell_type": "code",
      "metadata": {
        "id": "_TB8jxrGahZp",
        "colab_type": "code",
        "colab": {}
      },
      "source": [
        "keeper_train"
      ],
      "execution_count": null,
      "outputs": []
    },
    {
      "cell_type": "code",
      "metadata": {
        "id": "oD3b4zlYttm2",
        "colab_type": "code",
        "colab": {
          "base_uri": "https://localhost:8080/",
          "height": 34
        },
        "outputId": "3d5e4e14-8643-4bc2-d364-b90065c10a86"
      },
      "source": [
        "train.shape, player_train.shape, keeper_train.shape"
      ],
      "execution_count": null,
      "outputs": [
        {
          "output_type": "execute_result",
          "data": {
            "text/plain": [
              "((22521, 47), (20907, 41), (1614, 42))"
            ]
          },
          "metadata": {
            "tags": []
          },
          "execution_count": 35
        }
      ]
    },
    {
      "cell_type": "code",
      "metadata": {
        "id": "PcfI6YQLHWTb",
        "colab_type": "code",
        "colab": {}
      },
      "source": [
        "keeper_train.saves.value_counts()"
      ],
      "execution_count": null,
      "outputs": []
    },
    {
      "cell_type": "code",
      "metadata": {
        "id": "6_Foqb-Mr5Qk",
        "colab_type": "code",
        "colab": {}
      },
      "source": [
        "keeper_train.corr()['rating']"
      ],
      "execution_count": null,
      "outputs": []
    },
    {
      "cell_type": "code",
      "metadata": {
        "id": "7YXOwo8HCHr_",
        "colab_type": "code",
        "colab": {}
      },
      "source": [
        "keeper_train.info()"
      ],
      "execution_count": null,
      "outputs": []
    },
    {
      "cell_type": "code",
      "metadata": {
        "id": "j9OroTTdunUU",
        "colab_type": "code",
        "colab": {}
      },
      "source": [
        "player_train = player_train.drop(['player_id','name'],axis=1)\n",
        "keeper_train = keeper_train.drop(['player_id','name','role'],axis=1)\n",
        "player_train = pd.get_dummies(data=player_train, columns=['role'])"
      ],
      "execution_count": null,
      "outputs": []
    },
    {
      "cell_type": "code",
      "metadata": {
        "id": "l99lKzU_u3Yx",
        "colab_type": "code",
        "colab": {
          "base_uri": "https://localhost:8080/",
          "height": 34
        },
        "outputId": "b09668aa-bad4-4556-a029-b271f894fce8"
      },
      "source": [
        "player_train.shape, keeper_train.shape"
      ],
      "execution_count": null,
      "outputs": [
        {
          "output_type": "execute_result",
          "data": {
            "text/plain": [
              "((20907, 39), (1614, 37))"
            ]
          },
          "metadata": {
            "tags": []
          },
          "execution_count": 10
        }
      ]
    },
    {
      "cell_type": "code",
      "metadata": {
        "id": "Ji-zWybSC_r1",
        "colab_type": "code",
        "colab": {}
      },
      "source": [
        "player_train.to_csv(\"player_train.csv\")\n",
        "keeper_train.to_csv(\"keeper_train.csv\")"
      ],
      "execution_count": null,
      "outputs": []
    },
    {
      "cell_type": "code",
      "metadata": {
        "id": "Prst0mu2u7D6",
        "colab_type": "code",
        "colab": {}
      },
      "source": [
        "x_player_train = player_train.drop(['rating'],axis=1)\n",
        "y_player_train = player_train['rating']\n",
        "x_keeper_train = keeper_train.drop(['rating'],axis=1)\n",
        "y_keeper_train = keeper_train['rating']"
      ],
      "execution_count": null,
      "outputs": []
    },
    {
      "cell_type": "code",
      "metadata": {
        "id": "8MG4ER-HZ31N",
        "colab_type": "code",
        "colab": {
          "base_uri": "https://localhost:8080/",
          "height": 34
        },
        "outputId": "88479062-6534-4b96-8c7c-07386a4386d2"
      },
      "source": [
        "x_player_train.shape, y_player_train.shape, x_keeper_train.shape, y_keeper_train.shape"
      ],
      "execution_count": null,
      "outputs": [
        {
          "output_type": "execute_result",
          "data": {
            "text/plain": [
              "((20907, 38), (20907,), (1614, 36), (1614,))"
            ]
          },
          "metadata": {
            "tags": []
          },
          "execution_count": 21
        }
      ]
    },
    {
      "cell_type": "code",
      "metadata": {
        "id": "hKU8k8zwDVXT",
        "colab_type": "code",
        "colab": {
          "base_uri": "https://localhost:8080/",
          "height": 34
        },
        "outputId": "f9e5a2bf-1fa0-4694-ea59-bda65b201f4d"
      },
      "source": [
        "len(x_player_train.columns)"
      ],
      "execution_count": null,
      "outputs": [
        {
          "output_type": "execute_result",
          "data": {
            "text/plain": [
              "36"
            ]
          },
          "metadata": {
            "tags": []
          },
          "execution_count": 15
        }
      ]
    },
    {
      "cell_type": "code",
      "metadata": {
        "id": "oLhAbuwWyTtA",
        "colab_type": "code",
        "colab": {
          "base_uri": "https://localhost:8080/",
          "height": 35
        },
        "outputId": "a77e2df2-0e66-4c7e-85e2-b418483acabb"
      },
      "source": [
        "f['accurate_long_balls']"
      ],
      "execution_count": null,
      "outputs": [
        {
          "output_type": "execute_result",
          "data": {
            "application/vnd.google.colaboratory.intrinsic": {
              "type": "string"
            },
            "text/plain": [
              "'int64'"
            ]
          },
          "metadata": {
            "tags": []
          },
          "execution_count": 17
        }
      ]
    },
    {
      "cell_type": "code",
      "metadata": {
        "id": "z7KnjjNewCaw",
        "colab_type": "code",
        "colab": {}
      },
      "source": [
        "f = x_player_train.dtypes.apply(lambda x: x.name).to_dict()"
      ],
      "execution_count": null,
      "outputs": []
    },
    {
      "cell_type": "code",
      "metadata": {
        "id": "R3qW5ipQZ3Ib",
        "colab_type": "code",
        "colab": {
          "base_uri": "https://localhost:8080/",
          "height": 204
        },
        "outputId": "a7e2f3d8-47bd-4acd-e8db-e1b3ee291614"
      },
      "source": [
        "x_player_train.columns"
      ],
      "execution_count": null,
      "outputs": [
        {
          "output_type": "execute_result",
          "data": {
            "text/plain": [
              "Index(['minutes_played', 'accurate_passes', 'assists', 'chances_created',\n",
              "       'goals', 'pass_success', 'total_shots', 'blocked_shots',\n",
              "       'shot_accuracy', 'shot_off_target', 'shot_on_target',\n",
              "       'accurate_long_balls', 'crosses', 'key_passes', 'long_balls', 'passes',\n",
              "       'touches', 'aerials_lost', 'aerials_won', 'clearances', 'dispossessed',\n",
              "       'dribbles_attempted', 'dribbles_succeeded', 'duels_lost', 'duels_won',\n",
              "       'fouls', 'interceptions', 'recoveries', 'tackles_attempted',\n",
              "       'tackles_succeeded', 'was_fouled', 'is_a_sub', 'was_subbed',\n",
              "       'yellow_card', 'red_card', 'role_Attacker', 'role_Defender',\n",
              "       'role_Midfielder'],\n",
              "      dtype='object')"
            ]
          },
          "metadata": {
            "tags": []
          },
          "execution_count": 9
        }
      ]
    },
    {
      "cell_type": "markdown",
      "metadata": {
        "id": "rggXYwkl3HXC",
        "colab_type": "text"
      },
      "source": [
        "best till now player-xgb, keeper-lasso"
      ]
    },
    {
      "cell_type": "code",
      "metadata": {
        "id": "ALqBXI9IvHNG",
        "colab_type": "code",
        "colab": {
          "base_uri": "https://localhost:8080/",
          "height": 88
        },
        "outputId": "08f9f861-0915-4607-eb00-dc580aed97b0"
      },
      "source": [
        "import xgboost\n",
        "player_model = xgboost.XGBRegressor()\n",
        "player_model.fit(x_player_train, y_player_train)\n",
        "from sklearn.ensemble import RandomForestRegressor\n",
        "from sklearn import linear_model\n",
        "from sklearn.svm import SVR\n",
        "keeper_model = SVR(C=5.0, epsilon=0.01)\n",
        "keeper_model.fit(x_keeper_train, y_keeper_train)"
      ],
      "execution_count": null,
      "outputs": [
        {
          "output_type": "stream",
          "text": [
            "[13:43:16] WARNING: /workspace/src/objective/regression_obj.cu:152: reg:linear is now deprecated in favor of reg:squarederror.\n"
          ],
          "name": "stdout"
        },
        {
          "output_type": "execute_result",
          "data": {
            "text/plain": [
              "SVR(C=5.0, cache_size=200, coef0=0.0, degree=3, epsilon=0.01, gamma='scale',\n",
              "    kernel='rbf', max_iter=-1, shrinking=True, tol=0.001, verbose=False)"
            ]
          },
          "metadata": {
            "tags": []
          },
          "execution_count": 22
        }
      ]
    },
    {
      "cell_type": "code",
      "metadata": {
        "id": "Ctg7UAEy2nvm",
        "colab_type": "code",
        "colab": {
          "base_uri": "https://localhost:8080/",
          "height": 136
        },
        "outputId": "1eea581b-7d2d-48f1-a586-44db9b17be16"
      },
      "source": [
        "from sklearn.linear_model import LinearRegression\n",
        "player_model = LinearRegression()\n",
        "player_model.fit(x_player_train, y_player_train)\n",
        "keeper_model = LinearRegression()\n",
        "keeper_model.fit(x_keeper_train, y_keeper_train)"
      ],
      "execution_count": null,
      "outputs": [
        {
          "output_type": "execute_result",
          "data": {
            "text/plain": [
              "RandomForestRegressor(bootstrap=True, ccp_alpha=0.0, criterion='mse',\n",
              "                      max_depth=None, max_features='auto', max_leaf_nodes=None,\n",
              "                      max_samples=None, min_impurity_decrease=0.0,\n",
              "                      min_impurity_split=None, min_samples_leaf=1,\n",
              "                      min_samples_split=2, min_weight_fraction_leaf=0.0,\n",
              "                      n_estimators=50, n_jobs=None, oob_score=False,\n",
              "                      random_state=None, verbose=0, warm_start=False)"
            ]
          },
          "metadata": {
            "tags": []
          },
          "execution_count": 352
        }
      ]
    },
    {
      "cell_type": "code",
      "metadata": {
        "id": "lbonXvVv23Lb",
        "colab_type": "code",
        "colab": {}
      },
      "source": [
        "from sklearn import linear_model\n",
        "player_model = linear_model.Lasso(alpha=0.1)\n",
        "player_model.fit(x_player_train, y_player_train)\n",
        "from sklearn.ensemble import RandomForestRegressor\n",
        "keeper_model = RandomForestRegressor()\n",
        "keeper_model.fit(x_keeper_train, y_keeper_train)"
      ],
      "execution_count": null,
      "outputs": []
    },
    {
      "cell_type": "code",
      "metadata": {
        "id": "TLXQcVosIKV4",
        "colab_type": "code",
        "colab": {}
      },
      "source": [
        "train = train.reset_index()\n",
        "train = train.drop(['index'],axis=1)"
      ],
      "execution_count": null,
      "outputs": []
    },
    {
      "cell_type": "code",
      "metadata": {
        "id": "GZ0r3nJXNUFC",
        "colab_type": "code",
        "colab": {}
      },
      "source": [
        "from sklearn.externals import joblib\n",
        "joblib.dump(scaler, '/content/drive/My Drive/Colab Notebooks/data/FootballPlayersMatchRatingPrediction/scaler_minutes_played.pkl')"
      ],
      "execution_count": null,
      "outputs": []
    },
    {
      "cell_type": "code",
      "metadata": {
        "id": "JB3ersEGMKRr",
        "colab_type": "code",
        "colab": {}
      },
      "source": [
        "scaler = joblib.load('/content/drive/My Drive/Colab Notebooks/data/FootballPlayersMatchRatingPrediction/scaler_minutes_played.pkl') \n",
        "#test['minutes_played'] = scaler.transform(test[['minutes_played']])"
      ],
      "execution_count": null,
      "outputs": []
    },
    {
      "cell_type": "code",
      "metadata": {
        "id": "F78t-Z1-9AY5",
        "colab_type": "code",
        "colab": {}
      },
      "source": [
        "with open('/content/drive/My Drive/Colab Notebooks/data/FootballPlayersMatchRatingPrediction/scaler_minutes_played_from_pickle.pkl', 'wb') as fs:\n",
        "  pickle.dump(scaler, fs)"
      ],
      "execution_count": null,
      "outputs": []
    },
    {
      "cell_type": "code",
      "metadata": {
        "id": "Vma01KFcMEhz",
        "colab_type": "code",
        "colab": {}
      },
      "source": [
        "new_train"
      ],
      "execution_count": null,
      "outputs": []
    },
    {
      "cell_type": "code",
      "metadata": {
        "id": "iwMZoxcFGY1E",
        "colab_type": "code",
        "colab": {}
      },
      "source": [
        "new_train = train.copy()"
      ],
      "execution_count": null,
      "outputs": []
    },
    {
      "cell_type": "code",
      "metadata": {
        "id": "L4J7ReJ3NkZB",
        "colab_type": "code",
        "colab": {}
      },
      "source": [
        "new_train"
      ],
      "execution_count": null,
      "outputs": []
    },
    {
      "cell_type": "code",
      "metadata": {
        "id": "C7SC2Kv5NqSW",
        "colab_type": "code",
        "colab": {}
      },
      "source": [
        "train = new_train.copy()"
      ],
      "execution_count": null,
      "outputs": []
    },
    {
      "cell_type": "code",
      "metadata": {
        "id": "KcrEJ1lcIxAw",
        "colab_type": "code",
        "colab": {}
      },
      "source": [
        "train = pd.get_dummies(data=train, columns=['role'])"
      ],
      "execution_count": null,
      "outputs": []
    },
    {
      "cell_type": "code",
      "metadata": {
        "id": "WvBCzsNeHtOB",
        "colab_type": "code",
        "colab": {}
      },
      "source": [
        "train = train.drop(['player_id','name'],axis=1)"
      ],
      "execution_count": null,
      "outputs": []
    },
    {
      "cell_type": "code",
      "metadata": {
        "id": "P3FbAkm7IZUJ",
        "colab_type": "code",
        "colab": {}
      },
      "source": [
        "train"
      ],
      "execution_count": null,
      "outputs": []
    },
    {
      "cell_type": "code",
      "metadata": {
        "id": "Jfu7H3Y_JZT2",
        "colab_type": "code",
        "colab": {}
      },
      "source": [
        "x_train = train.drop(['rating'],axis=1)\n",
        "y_train = train['rating']"
      ],
      "execution_count": null,
      "outputs": []
    },
    {
      "cell_type": "code",
      "metadata": {
        "id": "iiwwnjmsJfqO",
        "colab_type": "code",
        "colab": {
          "base_uri": "https://localhost:8080/",
          "height": 34
        },
        "outputId": "9deff841-c7cb-4726-c65d-06ddb166dd36"
      },
      "source": [
        "x_train.shape, y_train.shape"
      ],
      "execution_count": null,
      "outputs": [
        {
          "output_type": "execute_result",
          "data": {
            "text/plain": [
              "((22521, 45), (22521,))"
            ]
          },
          "metadata": {
            "tags": []
          },
          "execution_count": 261
        }
      ]
    },
    {
      "cell_type": "code",
      "metadata": {
        "id": "FCspHAziqDmv",
        "colab_type": "code",
        "colab": {}
      },
      "source": [
        "x_train['role']"
      ],
      "execution_count": null,
      "outputs": []
    },
    {
      "cell_type": "code",
      "metadata": {
        "id": "SsDSmUorS1Zc",
        "colab_type": "code",
        "colab": {}
      },
      "source": [
        "from sklearn.svm import SVR\n",
        "model = SVR(C=0.1, epsilon=0.2)\n",
        "model.fit(x_train, y_train)"
      ],
      "execution_count": null,
      "outputs": []
    },
    {
      "cell_type": "code",
      "metadata": {
        "id": "opXoPpvCTvXp",
        "colab_type": "code",
        "colab": {}
      },
      "source": [
        "from sklearn import linear_model\n",
        "model = linear_model.Lasso(alpha=0.1)\n",
        "model.fit(x_train, y_train)"
      ],
      "execution_count": null,
      "outputs": []
    },
    {
      "cell_type": "code",
      "metadata": {
        "id": "IEeLcdS4T1LP",
        "colab_type": "code",
        "colab": {}
      },
      "source": [
        "from sklearn.ensemble import RandomForestRegressor\n",
        "model = RandomForestRegressor()\n",
        "model.fit(x_train, y_train)"
      ],
      "execution_count": null,
      "outputs": []
    },
    {
      "cell_type": "code",
      "metadata": {
        "id": "sCusowZmJmcq",
        "colab_type": "code",
        "colab": {}
      },
      "source": [
        "import xgboost\n",
        "model = xgboost.XGBRegressor()\n",
        "model.fit(x_train, y_train)"
      ],
      "execution_count": null,
      "outputs": []
    },
    {
      "cell_type": "code",
      "metadata": {
        "id": "h3N_Lf0ST75V",
        "colab_type": "code",
        "colab": {}
      },
      "source": [
        "n_estimators = [500, 700, 900, 1100, 1300]\n",
        "max_depth = [2, 3, 5, 10, 15]\n",
        "booster = ['gbtree','gblinear']\n",
        "learning_rate = [0.05, 0.1, 0.15, 0.20]\n",
        "min_child_weight = [1,2,3,4]\n",
        "base_score = [0.25,0.5,0.75,1]\n",
        "\n",
        "hyperparameter_grid = {\n",
        "    'n_estimators' : n_estimators,\n",
        "    'max_depth' : max_depth,\n",
        "    'learning_rate' : learning_rate,\n",
        "    'min_child_weight' : min_child_weight,\n",
        "    'booster' : booster,\n",
        "    'base_score' : base_score\n",
        "}\n",
        "\n",
        "import xgboost\n",
        "regressor = xgboost.XGBRegressor()\n",
        "\n",
        "from sklearn.model_selection import RandomizedSearchCV\n",
        "random_cv = RandomizedSearchCV(estimator=regressor,\n",
        "            param_distributions=hyperparameter_grid,\n",
        "            cv=4, n_iter=50,\n",
        "            scoring = 'neg_mean_absolute_error',n_jobs = 1,\n",
        "            verbose = 5, \n",
        "            return_train_score = True,\n",
        "            random_state=42)\n",
        "\n",
        "random_cv.fit(x_train, y_train)"
      ],
      "execution_count": null,
      "outputs": []
    },
    {
      "cell_type": "code",
      "metadata": {
        "id": "n_zKCBLOUQkf",
        "colab_type": "code",
        "colab": {}
      },
      "source": [
        "random_cv.best_estimator_"
      ],
      "execution_count": null,
      "outputs": []
    },
    {
      "cell_type": "code",
      "metadata": {
        "id": "-YWC__TIh_M5",
        "colab_type": "code",
        "colab": {}
      },
      "source": [
        "import xgboost\n",
        "model = xgboost.XGBRegressor(base_score=0.25, booster='gbtree', colsample_bylevel=1,\n",
        "             colsample_bynode=1, colsample_bytree=1, gamma=0,\n",
        "             importance_type='gain', learning_rate=0.15, max_delta_step=0,\n",
        "             max_depth=2, min_child_weight=3, missing=None, n_estimators=1300,\n",
        "             n_jobs=1, nthread=None, objective='reg:linear', random_state=0,\n",
        "             reg_alpha=0, reg_lambda=1, scale_pos_weight=1, seed=None,\n",
        "             silent=None, subsample=1, verbosity=1)\n",
        "model.fit(x_train, y_train)"
      ],
      "execution_count": null,
      "outputs": []
    },
    {
      "cell_type": "markdown",
      "metadata": {
        "id": "DFln12dLv1WQ",
        "colab_type": "text"
      },
      "source": [
        "for player and keeper"
      ]
    },
    {
      "cell_type": "code",
      "metadata": {
        "id": "qa0Qgpnnwfnt",
        "colab_type": "code",
        "colab": {}
      },
      "source": [
        "x_player_train.shape, y_player_train.shape, x_keeper_train.shape, y_keeper_train.shape"
      ],
      "execution_count": null,
      "outputs": []
    },
    {
      "cell_type": "code",
      "metadata": {
        "id": "8phoDaWPv45Y",
        "colab_type": "code",
        "colab": {}
      },
      "source": [
        "test_player = pd.DataFrame(columns=x_player_train.columns)\n",
        "test_keeper = pd.DataFrame(columns=x_keeper_train.columns)"
      ],
      "execution_count": null,
      "outputs": []
    },
    {
      "cell_type": "code",
      "metadata": {
        "id": "-OATPRHYwEx1",
        "colab_type": "code",
        "colab": {}
      },
      "source": [
        "test_keeper.at[0,'diving_save'] = 0\n",
        "test_keeper.at[0,'goals_conceded'] = 1\n",
        "test_keeper.at[0,'minutes_played'] = 90\n",
        "test_keeper.at[0,'punches'] = 0\n",
        "test_keeper.at[0,'saves'] = 1\n",
        "test_keeper.at[0,'saves_inside_box'] = 1\n",
        "test_keeper.at[0,'throws'] = 4\n",
        "test_keeper.at[0,'pass_success'] = 0.74\n",
        "test_keeper.at[0,'accurate_passes'] = 20\n",
        "test_keeper.at[0,'total_shots'] = 0\n",
        "test_keeper.at[0,'shot_accuracy'] = 0\n",
        "test_keeper.at[0,'shot_off_target'] = 0\n",
        "test_keeper.at[0,'shot_on_target'] = 0\n",
        "test_keeper.at[0,'accurate_long_balls'] = 6\n",
        "test_keeper.at[0,'key_passes'] = 0\n",
        "test_keeper.at[0,'long_balls'] = 13\n",
        "test_keeper.at[0,'passes'] = 27\n",
        "test_keeper.at[0,'touches'] = 32\n",
        "test_keeper.at[0,'aerials_lost'] = 0\n",
        "test_keeper.at[0,'aerials_won'] = 0\n",
        "test_keeper.at[0,'clearances'] = 0\n",
        "test_keeper.at[0,'dispossessed'] = 0\n",
        "test_keeper.at[0,'dribbles_attempted'] = 0\n",
        "test_keeper.at[0,'dribbles_succeeded'] = 0\n",
        "test_keeper.at[0,'duels_lost'] = 0\n",
        "test_keeper.at[0,'duels_won'] = 0\n",
        "test_keeper.at[0,'fouls'] = 0\n",
        "test_keeper.at[0,'interceptions'] = 0\n",
        "test_keeper.at[0,'recoveries'] = 0\n",
        "test_keeper.at[0,'tackles_attempted'] = 0\n",
        "test_keeper.at[0,'tackles_succeeded'] = 0\n",
        "test_keeper.at[0,'was_fouled'] = 0\n",
        "test_keeper.at[0,'is_a_sub'] = 0\n",
        "test_keeper.at[0,'was_subbed'] = 0\n",
        "test_keeper.at[0,'yellow_card'] = 0\n",
        "test_keeper.at[0,'red_card'] = 0"
      ],
      "execution_count": null,
      "outputs": []
    },
    {
      "cell_type": "code",
      "metadata": {
        "id": "vI_UHjoAwKir",
        "colab_type": "code",
        "colab": {}
      },
      "source": [
        "test_player.at[0,'minutes_played'] = 45\n",
        "test_player.at[0,'accurate_passes'] = 38\n",
        "test_player.at[0,'assists'] = 1\n",
        "test_player.at[0,'chances_created'] = 5\n",
        "test_player.at[0,'goals'] = 0\n",
        "test_player.at[0,'pass_success'] = 0.95\n",
        "test_player.at[0,'total_shots'] = 0\n",
        "test_player.at[0,'blocked_shots'] = 0\n",
        "test_player.at[0,'shot_accuracy'] = 0.0\n",
        "test_player.at[0,'shot_off_target'] = 0\n",
        "test_player.at[0,'shot_on_target'] = 0\n",
        "test_player.at[0,'accurate_long_balls'] = 2\n",
        "test_player.at[0,'crosses'] = 9\n",
        "test_player.at[0,'key_passes'] = 4\n",
        "test_player.at[0,'long_balls'] = 2\n",
        "test_player.at[0,'passes'] = 40\n",
        "test_player.at[0,'touches'] = 57\n",
        "test_player.at[0,'aerials_lost'] = 0\n",
        "test_player.at[0,'aerials_won'] = 0\n",
        "test_player.at[0,'clearances'] = 1\n",
        "test_player.at[0,'dispossessed'] = 0\n",
        "test_player.at[0,'dribbles_attempted'] = 0\n",
        "test_player.at[0,'dribbles_succeeded'] = 0\n",
        "test_player.at[0,'duels_lost'] = 1\n",
        "test_player.at[0,'duels_won'] = 3\n",
        "test_player.at[0,'fouls'] = 0\n",
        "test_player.at[0,'interceptions'] = 0\n",
        "test_player.at[0,'recoveries'] = 1\n",
        "test_player.at[0,'tackles_attempted'] = 1\n",
        "test_player.at[0,'tackles_succeeded'] = 1\n",
        "test_player.at[0,'was_fouled'] = 0\n",
        "test_player.at[0,'is_a_sub'] = 1\n",
        "test_player.at[0,'was_subbed'] = 0\n",
        "test_player.at[0,'yellow_card'] = 0\n",
        "test_player.at[0,'red_card'] = 0\n",
        "test_player.at[0,'role_Attacker'] = 0\n",
        "test_player.at[0,'role_Defender'] = 1\n",
        "test_player.at[0,'role_Midfielder'] = 0"
      ],
      "execution_count": null,
      "outputs": []
    },
    {
      "cell_type": "code",
      "metadata": {
        "id": "2UB-kHjhyv4N",
        "colab_type": "code",
        "colab": {}
      },
      "source": [
        "import joblib\n",
        "scaler = joblib.load('/content/drive/My Drive/Colab Notebooks/data/FootballPlayersMatchRatingPrediction/scaler_minutes_played.pkl') \n",
        "test_player['minutes_played'] = scaler.transform(test_player[['minutes_played']])\n",
        "test_keeper['minutes_played'] = scaler.transform(test_keeper[['minutes_played']])"
      ],
      "execution_count": null,
      "outputs": []
    },
    {
      "cell_type": "code",
      "metadata": {
        "id": "IY2uyEDAxuCR",
        "colab_type": "code",
        "colab": {}
      },
      "source": [
        "test_player = test_player[x_player_train.columns]\n",
        "test_keeper = test_keeper[x_keeper_train.columns]"
      ],
      "execution_count": null,
      "outputs": []
    },
    {
      "cell_type": "code",
      "metadata": {
        "id": "bv-7T7AHx74h",
        "colab_type": "code",
        "colab": {}
      },
      "source": [
        "for x in x_player_train.columns:\n",
        "    test_player[x]=test_player[x].astype(x_player_train[x].dtypes.name)\n",
        "for x in x_keeper_train.columns:\n",
        "    test_keeper[x]=test_keeper[x].astype(x_keeper_train[x].dtypes.name)"
      ],
      "execution_count": null,
      "outputs": []
    },
    {
      "cell_type": "code",
      "metadata": {
        "id": "Gb_dUQUnz9Qh",
        "colab_type": "code",
        "colab": {
          "base_uri": "https://localhost:8080/",
          "height": 35
        },
        "outputId": "bda00640-42db-49d5-cc32-91a38b440281"
      },
      "source": [
        "import sklearn\n",
        "sklearn.__version__"
      ],
      "execution_count": null,
      "outputs": [
        {
          "output_type": "execute_result",
          "data": {
            "application/vnd.google.colaboratory.intrinsic": {
              "type": "string"
            },
            "text/plain": [
              "'0.22.2.post1'"
            ]
          },
          "metadata": {
            "tags": []
          },
          "execution_count": 34
        }
      ]
    },
    {
      "cell_type": "code",
      "metadata": {
        "id": "pkZWUVhu7tlu",
        "colab_type": "code",
        "colab": {}
      },
      "source": [
        "import pickle\n",
        "with open('/content/drive/My Drive/Colab Notebooks/data/FootballPlayersMatchRatingPrediction/player_model_xgb_from_pickle.pkl', 'wb') as fp:\n",
        "  pickle.dump(player_model, fp)\n",
        "with open('/content/drive/My Drive/Colab Notebooks/data/FootballPlayersMatchRatingPrediction/keeper_model_svr_from_pickle.pkl', 'wb') as fk:\n",
        "  pickle.dump(keeper_model, fk)"
      ],
      "execution_count": null,
      "outputs": []
    },
    {
      "cell_type": "code",
      "metadata": {
        "id": "k6DX5rFGyvap",
        "colab_type": "code",
        "colab": {
          "base_uri": "https://localhost:8080/",
          "height": 100
        },
        "outputId": "20b45516-7e5a-4deb-d7b0-fbb3122277f9"
      },
      "source": [
        "test_keeper"
      ],
      "execution_count": null,
      "outputs": [
        {
          "output_type": "execute_result",
          "data": {
            "text/html": [
              "<div>\n",
              "<style scoped>\n",
              "    .dataframe tbody tr th:only-of-type {\n",
              "        vertical-align: middle;\n",
              "    }\n",
              "\n",
              "    .dataframe tbody tr th {\n",
              "        vertical-align: top;\n",
              "    }\n",
              "\n",
              "    .dataframe thead th {\n",
              "        text-align: right;\n",
              "    }\n",
              "</style>\n",
              "<table border=\"1\" class=\"dataframe\">\n",
              "  <thead>\n",
              "    <tr style=\"text-align: right;\">\n",
              "      <th></th>\n",
              "      <th>diving_save</th>\n",
              "      <th>goals_conceded</th>\n",
              "      <th>minutes_played</th>\n",
              "      <th>punches</th>\n",
              "      <th>saves</th>\n",
              "      <th>saves_inside_box</th>\n",
              "      <th>throws</th>\n",
              "      <th>accurate_passes</th>\n",
              "      <th>pass_success</th>\n",
              "      <th>total_shots</th>\n",
              "      <th>shot_accuracy</th>\n",
              "      <th>shot_off_target</th>\n",
              "      <th>shot_on_target</th>\n",
              "      <th>accurate_long_balls</th>\n",
              "      <th>key_passes</th>\n",
              "      <th>long_balls</th>\n",
              "      <th>passes</th>\n",
              "      <th>touches</th>\n",
              "      <th>aerials_lost</th>\n",
              "      <th>aerials_won</th>\n",
              "      <th>clearances</th>\n",
              "      <th>dispossessed</th>\n",
              "      <th>dribbles_attempted</th>\n",
              "      <th>dribbles_succeeded</th>\n",
              "      <th>duels_lost</th>\n",
              "      <th>duels_won</th>\n",
              "      <th>fouls</th>\n",
              "      <th>interceptions</th>\n",
              "      <th>recoveries</th>\n",
              "      <th>tackles_attempted</th>\n",
              "      <th>tackles_succeeded</th>\n",
              "      <th>was_fouled</th>\n",
              "      <th>is_a_sub</th>\n",
              "      <th>was_subbed</th>\n",
              "      <th>yellow_card</th>\n",
              "      <th>red_card</th>\n",
              "    </tr>\n",
              "  </thead>\n",
              "  <tbody>\n",
              "    <tr>\n",
              "      <th>0</th>\n",
              "      <td>1</td>\n",
              "      <td>1</td>\n",
              "      <td>0.747899</td>\n",
              "      <td>0</td>\n",
              "      <td>4</td>\n",
              "      <td>3</td>\n",
              "      <td>5</td>\n",
              "      <td>9</td>\n",
              "      <td>0.41</td>\n",
              "      <td>0</td>\n",
              "      <td>0.0</td>\n",
              "      <td>0</td>\n",
              "      <td>0</td>\n",
              "      <td>2</td>\n",
              "      <td>0</td>\n",
              "      <td>15</td>\n",
              "      <td>22</td>\n",
              "      <td>33</td>\n",
              "      <td>0</td>\n",
              "      <td>0</td>\n",
              "      <td>0</td>\n",
              "      <td>0</td>\n",
              "      <td>0</td>\n",
              "      <td>0</td>\n",
              "      <td>0</td>\n",
              "      <td>0</td>\n",
              "      <td>0</td>\n",
              "      <td>0</td>\n",
              "      <td>0</td>\n",
              "      <td>0</td>\n",
              "      <td>0</td>\n",
              "      <td>0</td>\n",
              "      <td>0</td>\n",
              "      <td>0</td>\n",
              "      <td>0</td>\n",
              "      <td>0</td>\n",
              "    </tr>\n",
              "  </tbody>\n",
              "</table>\n",
              "</div>"
            ],
            "text/plain": [
              "   diving_save  goals_conceded  ...  yellow_card  red_card\n",
              "0            1               1  ...            0         0\n",
              "\n",
              "[1 rows x 36 columns]"
            ]
          },
          "metadata": {
            "tags": []
          },
          "execution_count": 26
        }
      ]
    },
    {
      "cell_type": "code",
      "metadata": {
        "id": "o9MoINaMySYd",
        "colab_type": "code",
        "colab": {
          "base_uri": "https://localhost:8080/",
          "height": 34
        },
        "outputId": "aba88b2a-3763-411b-c689-2cab1932d924"
      },
      "source": [
        "keeper_model.predict(test_keeper)"
      ],
      "execution_count": null,
      "outputs": [
        {
          "output_type": "execute_result",
          "data": {
            "text/plain": [
              "array([6.44056353])"
            ]
          },
          "metadata": {
            "tags": []
          },
          "execution_count": 61
        }
      ]
    },
    {
      "cell_type": "code",
      "metadata": {
        "id": "VaX_dC-Fyl2Q",
        "colab_type": "code",
        "colab": {
          "base_uri": "https://localhost:8080/",
          "height": 100
        },
        "outputId": "82d5aee6-18d9-44e1-c9e1-cb31c6c8e1d7"
      },
      "source": [
        "test_player"
      ],
      "execution_count": null,
      "outputs": [
        {
          "output_type": "execute_result",
          "data": {
            "text/html": [
              "<div>\n",
              "<style scoped>\n",
              "    .dataframe tbody tr th:only-of-type {\n",
              "        vertical-align: middle;\n",
              "    }\n",
              "\n",
              "    .dataframe tbody tr th {\n",
              "        vertical-align: top;\n",
              "    }\n",
              "\n",
              "    .dataframe thead th {\n",
              "        text-align: right;\n",
              "    }\n",
              "</style>\n",
              "<table border=\"1\" class=\"dataframe\">\n",
              "  <thead>\n",
              "    <tr style=\"text-align: right;\">\n",
              "      <th></th>\n",
              "      <th>minutes_played</th>\n",
              "      <th>accurate_passes</th>\n",
              "      <th>assists</th>\n",
              "      <th>chances_created</th>\n",
              "      <th>goals</th>\n",
              "      <th>pass_success</th>\n",
              "      <th>total_shots</th>\n",
              "      <th>blocked_shots</th>\n",
              "      <th>shot_accuracy</th>\n",
              "      <th>shot_off_target</th>\n",
              "      <th>shot_on_target</th>\n",
              "      <th>accurate_long_balls</th>\n",
              "      <th>crosses</th>\n",
              "      <th>key_passes</th>\n",
              "      <th>long_balls</th>\n",
              "      <th>passes</th>\n",
              "      <th>touches</th>\n",
              "      <th>aerials_lost</th>\n",
              "      <th>aerials_won</th>\n",
              "      <th>clearances</th>\n",
              "      <th>dispossessed</th>\n",
              "      <th>dribbles_attempted</th>\n",
              "      <th>dribbles_succeeded</th>\n",
              "      <th>duels_lost</th>\n",
              "      <th>duels_won</th>\n",
              "      <th>fouls</th>\n",
              "      <th>interceptions</th>\n",
              "      <th>recoveries</th>\n",
              "      <th>tackles_attempted</th>\n",
              "      <th>tackles_succeeded</th>\n",
              "      <th>was_fouled</th>\n",
              "      <th>is_a_sub</th>\n",
              "      <th>was_subbed</th>\n",
              "      <th>yellow_card</th>\n",
              "      <th>red_card</th>\n",
              "      <th>role_Attacker</th>\n",
              "      <th>role_Defender</th>\n",
              "      <th>role_Midfielder</th>\n",
              "    </tr>\n",
              "  </thead>\n",
              "  <tbody>\n",
              "    <tr>\n",
              "      <th>0</th>\n",
              "      <td>0.747899</td>\n",
              "      <td>25</td>\n",
              "      <td>1</td>\n",
              "      <td>3</td>\n",
              "      <td>2</td>\n",
              "      <td>0.81</td>\n",
              "      <td>8</td>\n",
              "      <td>1</td>\n",
              "      <td>0.71</td>\n",
              "      <td>2</td>\n",
              "      <td>5</td>\n",
              "      <td>0</td>\n",
              "      <td>2</td>\n",
              "      <td>2</td>\n",
              "      <td>0</td>\n",
              "      <td>31</td>\n",
              "      <td>43</td>\n",
              "      <td>1</td>\n",
              "      <td>1</td>\n",
              "      <td>0</td>\n",
              "      <td>0</td>\n",
              "      <td>1</td>\n",
              "      <td>0</td>\n",
              "      <td>2</td>\n",
              "      <td>1</td>\n",
              "      <td>0</td>\n",
              "      <td>0</td>\n",
              "      <td>2</td>\n",
              "      <td>0</td>\n",
              "      <td>0</td>\n",
              "      <td>0</td>\n",
              "      <td>0</td>\n",
              "      <td>0</td>\n",
              "      <td>0</td>\n",
              "      <td>0</td>\n",
              "      <td>1</td>\n",
              "      <td>0</td>\n",
              "      <td>0</td>\n",
              "    </tr>\n",
              "  </tbody>\n",
              "</table>\n",
              "</div>"
            ],
            "text/plain": [
              "   minutes_played  accurate_passes  ...  role_Defender  role_Midfielder\n",
              "0        0.747899               25  ...              0                0\n",
              "\n",
              "[1 rows x 38 columns]"
            ]
          },
          "metadata": {
            "tags": []
          },
          "execution_count": 28
        }
      ]
    },
    {
      "cell_type": "code",
      "metadata": {
        "id": "CQ0cT0NkyLGz",
        "colab_type": "code",
        "colab": {
          "base_uri": "https://localhost:8080/",
          "height": 34
        },
        "outputId": "dedc9a24-3b33-495d-f942-b8c6f4f18210"
      },
      "source": [
        "player_model.predict(test_player)"
      ],
      "execution_count": null,
      "outputs": [
        {
          "output_type": "execute_result",
          "data": {
            "text/plain": [
              "array([7.8414016], dtype=float32)"
            ]
          },
          "metadata": {
            "tags": []
          },
          "execution_count": 64
        }
      ]
    },
    {
      "cell_type": "code",
      "metadata": {
        "id": "k1F4oOFVzilx",
        "colab_type": "code",
        "colab": {
          "base_uri": "https://localhost:8080/",
          "height": 34
        },
        "outputId": "0c2b7e8e-79f7-4c74-f849-3dabe66aed0b"
      },
      "source": [
        "joblib.dump(player_model, '/content/drive/My Drive/Colab Notebooks/data/FootballPlayersMatchRatingPrediction/player_model_xgb.pkl')\n",
        "joblib.dump(keeper_model, '/content/drive/My Drive/Colab Notebooks/data/FootballPlayersMatchRatingPrediction/keeper_model_svr.pkl')"
      ],
      "execution_count": null,
      "outputs": [
        {
          "output_type": "execute_result",
          "data": {
            "text/plain": [
              "['/content/drive/My Drive/Colab Notebooks/data/FootballPlayersMatchRatingPrediction/keeper_model_svr.pkl']"
            ]
          },
          "metadata": {
            "tags": []
          },
          "execution_count": 65
        }
      ]
    },
    {
      "cell_type": "markdown",
      "metadata": {
        "id": "KO33QGG0v289",
        "colab_type": "text"
      },
      "source": [
        "----------------------------------------------------------------"
      ]
    },
    {
      "cell_type": "code",
      "metadata": {
        "id": "MniG4nLsJ-VH",
        "colab_type": "code",
        "colab": {}
      },
      "source": [
        "test = pd.DataFrame(columns=x_train.columns)"
      ],
      "execution_count": null,
      "outputs": []
    },
    {
      "cell_type": "code",
      "metadata": {
        "id": "TFMTtOFiKc-U",
        "colab_type": "code",
        "colab": {}
      },
      "source": [
        "test.at[0,'diving_save'] = 1\n",
        "test.at[0,'goals_conceded'] = 1\n",
        "test.at[0,'minutes_played'] = 90\n",
        "test.at[0,'punches'] = 0\n",
        "test.at[0,'saves'] = 4\n",
        "test.at[0,'saves_inside_box'] = 3\n",
        "test.at[0,'throws'] = 5\n",
        "test.at[0,'accurate_passes'] = 9\n",
        "test.at[0,'assists'] = 0\n",
        "test.at[0,'chances_created'] = 0\n",
        "test.at[0,'goals'] = 0\n",
        "test.at[0,'pass_success'] = 0.41\n",
        "test.at[0,'total_shots'] = 0\n",
        "test.at[0,'blocked_shots'] = 0\n",
        "test.at[0,'shot_accuracy'] = 0\n",
        "test.at[0,'shot_off_target'] = 0\n",
        "test.at[0,'shot_on_target'] = 0\n",
        "test.at[0,'accurate_long_balls'] = 2\n",
        "test.at[0,'crosses'] = 0\n",
        "test.at[0,'key_passes'] = 0\n",
        "test.at[0,'long_balls'] = 15\n",
        "test.at[0,'passes'] = 22\n",
        "test.at[0,'touches'] = 33\n",
        "test.at[0,'aerials_lost'] = 0\n",
        "test.at[0,'aerials_won'] = 0\n",
        "test.at[0,'clearances'] = 0\n",
        "test.at[0,'dispossessed'] = 0\n",
        "test.at[0,'dribbles_attempted'] = 0\n",
        "test.at[0,'dribbles_succeeded'] = 0\n",
        "test.at[0,'duels_lost'] = 0\n",
        "test.at[0,'duels_won'] = 0\n",
        "test.at[0,'fouls'] = 0\n",
        "test.at[0,'interceptions'] = 0\n",
        "test.at[0,'recoveries'] = 0\n",
        "test.at[0,'tackles_attempted'] = 0\n",
        "test.at[0,'tackles_succeeded'] = 0\n",
        "test.at[0,'was_fouled'] = 0\n",
        "test.at[0,'is_a_sub'] = 0\n",
        "test.at[0,'was_subbed'] = 0\n",
        "test.at[0,'yellow_card'] = 0\n",
        "test.at[0,'red_card'] = 0\n",
        "test.at[0,'role_Attacker'] = 0\n",
        "test.at[0,'role_Defender'] = 0\n",
        "test.at[0,'role_Keeper'] = 1\n",
        "test.at[0,'role_Midfielder'] = 0"
      ],
      "execution_count": null,
      "outputs": []
    },
    {
      "cell_type": "code",
      "metadata": {
        "id": "9Fpx7advKsd3",
        "colab_type": "code",
        "colab": {}
      },
      "source": [
        "test"
      ],
      "execution_count": null,
      "outputs": []
    },
    {
      "cell_type": "code",
      "metadata": {
        "id": "t5DUencjPpV3",
        "colab_type": "code",
        "colab": {}
      },
      "source": [
        "test = test[x_train.columns]"
      ],
      "execution_count": null,
      "outputs": []
    },
    {
      "cell_type": "code",
      "metadata": {
        "id": "_99T7HBQP-0x",
        "colab_type": "code",
        "colab": {}
      },
      "source": [
        "for x in x_train.columns:\n",
        "    test[x]=test[x].astype(x_train[x].dtypes.name)"
      ],
      "execution_count": null,
      "outputs": []
    },
    {
      "cell_type": "code",
      "metadata": {
        "id": "W7PyBidlizez",
        "colab_type": "code",
        "colab": {
          "base_uri": "https://localhost:8080/",
          "height": 34
        },
        "outputId": "4f8b57b9-447f-4042-8c94-8f8bc960ed42"
      },
      "source": [
        "joblib.dump(model, '/content/drive/My Drive/Colab Notebooks/data/FootballPlayersMatchRatingPrediction/xgb_normal.pkl')"
      ],
      "execution_count": null,
      "outputs": [
        {
          "output_type": "execute_result",
          "data": {
            "text/plain": [
              "['/content/drive/My Drive/Colab Notebooks/data/FootballPlayersMatchRatingPrediction/xgb_after_hyp.pkl']"
            ]
          },
          "metadata": {
            "tags": []
          },
          "execution_count": 237
        }
      ]
    },
    {
      "cell_type": "code",
      "metadata": {
        "id": "2KPBa6KkjPes",
        "colab_type": "code",
        "colab": {
          "base_uri": "https://localhost:8080/",
          "height": 34
        },
        "outputId": "8c56dd06-1d5c-40cf-e777-8615f8dd6ce4"
      },
      "source": [
        "model.predict(test)"
      ],
      "execution_count": null,
      "outputs": [
        {
          "output_type": "execute_result",
          "data": {
            "text/plain": [
              "array([5.746245], dtype=float32)"
            ]
          },
          "metadata": {
            "tags": []
          },
          "execution_count": 260
        }
      ]
    },
    {
      "cell_type": "code",
      "metadata": {
        "id": "9SxA8phsifk0",
        "colab_type": "code",
        "colab": {
          "base_uri": "https://localhost:8080/",
          "height": 34
        },
        "outputId": "dcd23a62-c383-4b8f-f6f1-b668de95fc45"
      },
      "source": [
        "model.predict(test)"
      ],
      "execution_count": null,
      "outputs": [
        {
          "output_type": "execute_result",
          "data": {
            "text/plain": [
              "array([6.666298], dtype=float32)"
            ]
          },
          "metadata": {
            "tags": []
          },
          "execution_count": 231
        }
      ]
    },
    {
      "cell_type": "code",
      "metadata": {
        "id": "iDUrcXAaPmOr",
        "colab_type": "code",
        "colab": {
          "base_uri": "https://localhost:8080/",
          "height": 34
        },
        "outputId": "c815dfdd-96a9-41e6-aa94-f20edf738cd4"
      },
      "source": [
        "model.predict(test)"
      ],
      "execution_count": null,
      "outputs": [
        {
          "output_type": "execute_result",
          "data": {
            "text/plain": [
              "array([7.380845], dtype=float32)"
            ]
          },
          "metadata": {
            "tags": []
          },
          "execution_count": 225
        }
      ]
    }
  ]
}